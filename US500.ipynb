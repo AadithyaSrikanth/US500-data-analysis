{
  "cells": [
    {
      "cell_type": "code",
      "execution_count": null,
      "id": "486c1006",
      "metadata": {
        "id": "486c1006"
      },
      "outputs": [],
      "source": [
        "# Importing libraries and all dependencies\n",
        "\n",
        "import numpy as np\n",
        "import pandas as pd\n",
        "import matplotlib.pyplot as plt\n",
        "import seaborn as sns\n",
        "\n",
        "from collections import Counter"
      ]
    },
    {
      "cell_type": "code",
      "execution_count": null,
      "id": "0f61bca6",
      "metadata": {
        "id": "0f61bca6",
        "outputId": "d96389e4-0400-4f7d-98ea-666d0769669a"
      },
      "outputs": [
        {
          "data": {
            "text/plain": [
              "'\\nIntoduction\\nOur dataset is based on the companies in USA. It provides various information ranging from year founded in a city to its business model, source of revenue and impact on the society. It’s a comprehensive dataset to analyze the various trends of the corporate world and how it affects employability and economy of the city.\\n\\nThe features include both numeric and non-numeric data. Numeric data includes ‘year_founded’, ‘zip_code’ and ‘last_updated’. The remaining 19 columns are non-numeric which gives description of the company, its type, category and its revenue source.\\n\\nWe have described the process of choosing the features by clearly stating the reasons for the same followed by cleaning to ensure smooth analysis. The columns we selected are ‘company_name’, ‘year_founded’, ‘city’,’state’, ‘full_time_employees’,’company_type’,’company_category’,’revenue_source’,’business_model’,’description’ and ‘description_short’.\\n\\nWe have converted ‘full_time_employees’ to numeric value to perform mathematical analysis such as to obtain the distribution across various cities, types and categories.\\n\\nWe have framed appropriate questions to extract meaningful insights into the data. We were able to get convincing results centered on preferred city, state for a company of a particular type and category and its impact on employability and emergence of different trends.\\n\\nWe have applied machine learning algorithm of multivariate logistic regression using Random Forest Classifier to predict ‘company_category’ by appropriately selecting features. The text features ‘business_model’, ‘description’ and ‘description_short’ have been combined to reduce dimensions. Text pre-processing has been applied to get the embeddings. TF-IDF technique has been applied to quantify the text data. Categorical numeric values have been assigned to ‘city’, ‘state’ and ‘company_category’ which is the predicted variable. ‘year_founded’ and ‘employees’ has also been included as numeric features. We obtained an accuracy of   \\n61%\\n'"
            ]
          },
          "execution_count": 143,
          "metadata": {},
          "output_type": "execute_result"
        }
      ],
      "source": [
        "'''\n",
        "Intoduction\n",
        "Our dataset is based on the companies in USA. It provides various information ranging from year founded in a city to its business model, source of revenue and impact on the society. It’s a comprehensive dataset to analyze the various trends of the corporate world and how it affects employability and economy of the city.\n",
        "\n",
        "The features include both numeric and non-numeric data. Numeric data includes ‘year_founded’, ‘zip_code’ and ‘last_updated’. The remaining 19 columns are non-numeric which gives description of the company, its type, category and its revenue source.\n",
        "\n",
        "We have described the process of choosing the features by clearly stating the reasons for the same followed by cleaning to ensure smooth analysis. The columns we selected are ‘company_name’, ‘year_founded’, ‘city’,’state’, ‘full_time_employees’,’company_type’,’company_category’,’revenue_source’,’business_model’,’description’ and ‘description_short’.\n",
        "\n",
        "We have converted ‘full_time_employees’ to numeric value to perform mathematical analysis such as to obtain the distribution across various cities, types and categories.\n",
        "\n",
        "We have framed appropriate questions to extract meaningful insights into the data. We were able to get convincing results centered on preferred city, state for a company of a particular type and category and its impact on employability and emergence of different trends.\n",
        "\n",
        "We have applied machine learning algorithm of multivariate logistic regression using Random Forest Classifier to predict ‘company_category’ by appropriately selecting features. The text features ‘business_model’, ‘description’ and ‘description_short’ have been combined to reduce dimensions. Text pre-processing has been applied to get the embeddings. TF-IDF technique has been applied to quantify the text data. Categorical numeric values have been assigned to ‘city’, ‘state’ and ‘company_category’ which is the predicted variable. ‘year_founded’ and ‘employees’ has also been included as numeric features. We obtained an accuracy of\n",
        "61%\n",
        "'''"
      ]
    },
    {
      "cell_type": "code",
      "execution_count": null,
      "id": "bdf27f1e",
      "metadata": {
        "id": "bdf27f1e",
        "outputId": "6d1a2e88-1b07-4562-fd0d-851249a33828"
      },
      "outputs": [
        {
          "name": "stdout",
          "output_type": "stream",
          "text": [
            "(529, 22)\n"
          ]
        }
      ],
      "source": [
        "'''\n",
        "T9:\n",
        "\n",
        "Context\n",
        "The Open Data 500, funded by the John S. and James L. Knight Foundation (http://www.knightfoundation.org/) and conducted by the GovLab, is the first comprehensive study of U.S. companies that use open government data to generate new business and develop new products and services.\n",
        "\n",
        "Study Goals\n",
        "Provide a basis for assessing the economic value of government open data\n",
        "\n",
        "Encourage the development of new open data companies\n",
        "\n",
        "Foster a dialogue between government and business on how government data can be made more useful\n",
        "\n",
        "The Govlab's Approach\n",
        "The Open Data 500 study is conducted by the GovLab at New York University with funding from the John S. and James L. Knight Foundation. The GovLab works to improve people’s lives by changing how we govern, using technology-enabled solutions and a collaborative, networked approach. As part of its mission, the GovLab studies how institutions can publish the data they collect as open data so that businesses, organizations, and citizens can analyze and use this information.\n",
        "\n",
        "Company Identification\n",
        "The Open Data 500 team has compiled our list of companies through (1) outreach campaigns, (2) advice from experts and professional organizations, and (3) additional research.\n",
        "\n",
        "Outreach Campaign\n",
        "\n",
        "Mass email to over 3,000 contacts in the GovLab network\n",
        "\n",
        "Mass email to over 2,000 contacts OpenDataNow.com\n",
        "\n",
        "Blog posts on TheGovLab.org and OpenDataNow.com\n",
        "\n",
        "Social media recommendations\n",
        "\n",
        "Media coverage of the Open Data 500\n",
        "\n",
        "Attending presentations and conferences\n",
        "\n",
        "Expert Advice\n",
        "\n",
        "Recommendations from government and non-governmental organizations\n",
        "\n",
        "Guidance and feedback from Open Data 500 advisors\n",
        "\n",
        "Research\n",
        "\n",
        "Companies identified for the book, Open Data Now\n",
        "\n",
        "Companies using datasets from Data.gov\n",
        "\n",
        "Directory of open data companies developed by Deloitte\n",
        "\n",
        "Online Open Data Userbase created by Socrata\n",
        "\n",
        "General research from publicly available sources\n",
        "\n",
        "What The Study Is Not\n",
        "The Open Data 500 is not a rating or ranking of companies. It covers companies of different sizes and categories, using various kinds of data.\n",
        "\n",
        "The Open Data 500 is not a competition, but an attempt to give a broad, inclusive view of the field.\n",
        "\n",
        "The Open Data 500 study also does not provide a random sample for definitive statistical analysis. Since this is the first thorough scan of companies in the field, it is not yet possible to determine the exact landscape of open data companies.\n",
        "\n",
        "Shape of the Data Set (529, 22)\n",
        "\n",
        "'''\n",
        "#import the dataset\n",
        "DataSet=pd.read_csv('US500.csv')\n",
        "\n",
        "#print the dimensions of the dataset\n",
        "print(DataSet.shape)"
      ]
    },
    {
      "cell_type": "code",
      "execution_count": null,
      "id": "4c8f6a72",
      "metadata": {
        "id": "4c8f6a72",
        "outputId": "2993583a-125c-4e8e-d352-56e8ea37f74c"
      },
      "outputs": [
        {
          "name": "stdout",
          "output_type": "stream",
          "text": [
            "Therefore from above, we have 529 rows and 22 columns in our dataset.\n"
          ]
        }
      ],
      "source": [
        "print('Therefore from above, we have 529 rows and 22 columns in our dataset.')"
      ]
    },
    {
      "cell_type": "code",
      "execution_count": null,
      "id": "d629bd1b",
      "metadata": {
        "id": "d629bd1b",
        "outputId": "4ef5cf83-072b-4970-91ff-b4b06a1ee7a6"
      },
      "outputs": [
        {
          "name": "stdout",
          "output_type": "stream",
          "text": [
            "The index of our dataset is  RangeIndex(start=0, stop=529, step=1)\n"
          ]
        }
      ],
      "source": [
        "#print the index of our dataset\n",
        "print(\"The index of our dataset is \",DataSet.index)"
      ]
    },
    {
      "cell_type": "code",
      "execution_count": null,
      "id": "e16a1585",
      "metadata": {
        "id": "e16a1585",
        "outputId": "84dace45-428f-4ca1-f8a8-e670e65befaa"
      },
      "outputs": [
        {
          "name": "stdout",
          "output_type": "stream",
          "text": [
            "The first five entries of our dataset\n"
          ]
        },
        {
          "data": {
            "text/html": [
              "<div>\n",
              "<style scoped>\n",
              "    .dataframe tbody tr th:only-of-type {\n",
              "        vertical-align: middle;\n",
              "    }\n",
              "\n",
              "    .dataframe tbody tr th {\n",
              "        vertical-align: top;\n",
              "    }\n",
              "\n",
              "    .dataframe thead th {\n",
              "        text-align: right;\n",
              "    }\n",
              "</style>\n",
              "<table border=\"1\" class=\"dataframe\">\n",
              "  <thead>\n",
              "    <tr style=\"text-align: right;\">\n",
              "      <th></th>\n",
              "      <th>company_name_id</th>\n",
              "      <th>company_name</th>\n",
              "      <th>url</th>\n",
              "      <th>year_founded</th>\n",
              "      <th>city</th>\n",
              "      <th>state</th>\n",
              "      <th>country</th>\n",
              "      <th>zip_code</th>\n",
              "      <th>full_time_employees</th>\n",
              "      <th>company_type</th>\n",
              "      <th>...</th>\n",
              "      <th>business_model</th>\n",
              "      <th>social_impact</th>\n",
              "      <th>description</th>\n",
              "      <th>description_short</th>\n",
              "      <th>source_count</th>\n",
              "      <th>data_types</th>\n",
              "      <th>example_uses</th>\n",
              "      <th>data_impacts</th>\n",
              "      <th>financial_info</th>\n",
              "      <th>last_updated</th>\n",
              "    </tr>\n",
              "  </thead>\n",
              "  <tbody>\n",
              "    <tr>\n",
              "      <th>0</th>\n",
              "      <td>3-round-stones-inc</td>\n",
              "      <td>3 Round Stones, Inc.</td>\n",
              "      <td>http://3RoundStones.com</td>\n",
              "      <td>2010.0</td>\n",
              "      <td>Washington</td>\n",
              "      <td>DC</td>\n",
              "      <td>us</td>\n",
              "      <td>20004.0</td>\n",
              "      <td>1-10</td>\n",
              "      <td>Private</td>\n",
              "      <td>...</td>\n",
              "      <td>Business to Business, Business to Consumer</td>\n",
              "      <td>NaN</td>\n",
              "      <td>3 Round Stones produces a platform for publish...</td>\n",
              "      <td>Our Open Source platform is used by the Fortun...</td>\n",
              "      <td>NaN</td>\n",
              "      <td>NaN</td>\n",
              "      <td>NaN</td>\n",
              "      <td>[]</td>\n",
              "      <td>3 Round Stones is a profitable, self-funded, w...</td>\n",
              "      <td>2014-11-12 14:44:25.969871</td>\n",
              "    </tr>\n",
              "    <tr>\n",
              "      <th>1</th>\n",
              "      <td>48-factoring-inc</td>\n",
              "      <td>48 Factoring Inc.</td>\n",
              "      <td>https://www.48factoring.com</td>\n",
              "      <td>2014.0</td>\n",
              "      <td>Philadelphia</td>\n",
              "      <td>PA</td>\n",
              "      <td>us</td>\n",
              "      <td>19087.0</td>\n",
              "      <td>51-200</td>\n",
              "      <td>Private</td>\n",
              "      <td>...</td>\n",
              "      <td>Business to Business</td>\n",
              "      <td>Small Business Owners</td>\n",
              "      <td>The company mission is to provide finance to s...</td>\n",
              "      <td>48 Factoring Inc. is one of the best financial...</td>\n",
              "      <td>11-50</td>\n",
              "      <td>Business</td>\n",
              "      <td>NaN</td>\n",
              "      <td>[u'Cost efficiency', u'Job growth', u'Revenue ...</td>\n",
              "      <td>NaN</td>\n",
              "      <td>2015-05-18 11:36:39.902880</td>\n",
              "    </tr>\n",
              "    <tr>\n",
              "      <th>2</th>\n",
              "      <td>5psolutions</td>\n",
              "      <td>5PSolutions</td>\n",
              "      <td>www.5psolutions.com</td>\n",
              "      <td>2007.0</td>\n",
              "      <td>Fairfax</td>\n",
              "      <td>VA</td>\n",
              "      <td>us</td>\n",
              "      <td>22003.0</td>\n",
              "      <td>1-10</td>\n",
              "      <td>Private</td>\n",
              "      <td>...</td>\n",
              "      <td>Business to Business, Business to Consumer, Bu...</td>\n",
              "      <td>NaN</td>\n",
              "      <td>At 5PSolutions, we wish to make all basic info...</td>\n",
              "      <td>5PSolutions are artisans of mobile platforms.</td>\n",
              "      <td>NaN</td>\n",
              "      <td>NaN</td>\n",
              "      <td>NaN</td>\n",
              "      <td>[]</td>\n",
              "      <td>NaN</td>\n",
              "      <td>2014-11-12 15:09:35.485949</td>\n",
              "    </tr>\n",
              "    <tr>\n",
              "      <th>3</th>\n",
              "      <td>abt-associates</td>\n",
              "      <td>Abt Associates</td>\n",
              "      <td>abtassoc.com</td>\n",
              "      <td>1965.0</td>\n",
              "      <td>Cambridge</td>\n",
              "      <td>MA</td>\n",
              "      <td>us</td>\n",
              "      <td>2138.0</td>\n",
              "      <td>1,001-5,000</td>\n",
              "      <td>Private</td>\n",
              "      <td>...</td>\n",
              "      <td>NaN</td>\n",
              "      <td>NaN</td>\n",
              "      <td>Abt Associates is a mission-driven, internatio...</td>\n",
              "      <td>Abt Associates is a mission-driven, global lea...</td>\n",
              "      <td>101+</td>\n",
              "      <td>NaN</td>\n",
              "      <td>NaN</td>\n",
              "      <td>[]</td>\n",
              "      <td>Employee-owned company. $552M/year.</td>\n",
              "      <td>2014-09-11 17:23:21.390289</td>\n",
              "    </tr>\n",
              "    <tr>\n",
              "      <th>4</th>\n",
              "      <td>accela</td>\n",
              "      <td>Accela</td>\n",
              "      <td>http://www.accela.com</td>\n",
              "      <td>1999.0</td>\n",
              "      <td>San Ramon</td>\n",
              "      <td>CA</td>\n",
              "      <td>us</td>\n",
              "      <td>94583.0</td>\n",
              "      <td>501-1,000</td>\n",
              "      <td>Private</td>\n",
              "      <td>...</td>\n",
              "      <td>Business to Consumer</td>\n",
              "      <td>Citizen engagement and participation, Good gov...</td>\n",
              "      <td>Accela powers thousands of services and millio...</td>\n",
              "      <td>Accela improves citizen engagement by making i...</td>\n",
              "      <td>101+</td>\n",
              "      <td>Health/Healthcare, Housing, Public Safety</td>\n",
              "      <td>NaN</td>\n",
              "      <td>[]</td>\n",
              "      <td>NaN</td>\n",
              "      <td>2014-09-16 16:30:49.172802</td>\n",
              "    </tr>\n",
              "  </tbody>\n",
              "</table>\n",
              "<p>5 rows × 22 columns</p>\n",
              "</div>"
            ],
            "text/plain": [
              "      company_name_id          company_name                          url  \\\n",
              "0  3-round-stones-inc  3 Round Stones, Inc.      http://3RoundStones.com   \n",
              "1    48-factoring-inc     48 Factoring Inc.  https://www.48factoring.com   \n",
              "2         5psolutions           5PSolutions          www.5psolutions.com   \n",
              "3      abt-associates        Abt Associates                 abtassoc.com   \n",
              "4              accela                Accela        http://www.accela.com   \n",
              "\n",
              "   year_founded           city state country  zip_code full_time_employees  \\\n",
              "0        2010.0     Washington    DC      us   20004.0                1-10   \n",
              "1        2014.0   Philadelphia    PA      us   19087.0              51-200   \n",
              "2        2007.0        Fairfax    VA      us   22003.0                1-10   \n",
              "3        1965.0      Cambridge    MA      us    2138.0         1,001-5,000   \n",
              "4        1999.0      San Ramon    CA      us   94583.0           501-1,000   \n",
              "\n",
              "  company_type  ...                                     business_model  \\\n",
              "0      Private  ...         Business to Business, Business to Consumer   \n",
              "1      Private  ...                               Business to Business   \n",
              "2      Private  ...  Business to Business, Business to Consumer, Bu...   \n",
              "3      Private  ...                                                NaN   \n",
              "4      Private  ...                               Business to Consumer   \n",
              "\n",
              "                                       social_impact  \\\n",
              "0                                                NaN   \n",
              "1                              Small Business Owners   \n",
              "2                                                NaN   \n",
              "3                                                NaN   \n",
              "4  Citizen engagement and participation, Good gov...   \n",
              "\n",
              "                                         description  \\\n",
              "0  3 Round Stones produces a platform for publish...   \n",
              "1  The company mission is to provide finance to s...   \n",
              "2  At 5PSolutions, we wish to make all basic info...   \n",
              "3  Abt Associates is a mission-driven, internatio...   \n",
              "4  Accela powers thousands of services and millio...   \n",
              "\n",
              "                                   description_short source_count  \\\n",
              "0  Our Open Source platform is used by the Fortun...          NaN   \n",
              "1  48 Factoring Inc. is one of the best financial...        11-50   \n",
              "2      5PSolutions are artisans of mobile platforms.          NaN   \n",
              "3  Abt Associates is a mission-driven, global lea...         101+   \n",
              "4  Accela improves citizen engagement by making i...         101+   \n",
              "\n",
              "                                  data_types example_uses  \\\n",
              "0                                        NaN          NaN   \n",
              "1                                   Business          NaN   \n",
              "2                                        NaN          NaN   \n",
              "3                                        NaN          NaN   \n",
              "4  Health/Healthcare, Housing, Public Safety          NaN   \n",
              "\n",
              "                                        data_impacts  \\\n",
              "0                                                 []   \n",
              "1  [u'Cost efficiency', u'Job growth', u'Revenue ...   \n",
              "2                                                 []   \n",
              "3                                                 []   \n",
              "4                                                 []   \n",
              "\n",
              "                                      financial_info  \\\n",
              "0  3 Round Stones is a profitable, self-funded, w...   \n",
              "1                                                NaN   \n",
              "2                                                NaN   \n",
              "3                Employee-owned company. $552M/year.   \n",
              "4                                                NaN   \n",
              "\n",
              "                 last_updated  \n",
              "0  2014-11-12 14:44:25.969871  \n",
              "1  2015-05-18 11:36:39.902880  \n",
              "2  2014-11-12 15:09:35.485949  \n",
              "3  2014-09-11 17:23:21.390289  \n",
              "4  2014-09-16 16:30:49.172802  \n",
              "\n",
              "[5 rows x 22 columns]"
            ]
          },
          "execution_count": 147,
          "metadata": {},
          "output_type": "execute_result"
        }
      ],
      "source": [
        "#print the first 5 entries of our dataset\n",
        "print(\"The first five entries of our dataset\")\n",
        "DataSet.head()"
      ]
    },
    {
      "cell_type": "code",
      "execution_count": null,
      "id": "4ac960e8",
      "metadata": {
        "id": "4ac960e8",
        "outputId": "2eb17d39-8f50-4177-eda4-566a6959ec53"
      },
      "outputs": [
        {
          "name": "stdout",
          "output_type": "stream",
          "text": [
            "The last five entries of our dataset\n"
          ]
        },
        {
          "data": {
            "text/html": [
              "<div>\n",
              "<style scoped>\n",
              "    .dataframe tbody tr th:only-of-type {\n",
              "        vertical-align: middle;\n",
              "    }\n",
              "\n",
              "    .dataframe tbody tr th {\n",
              "        vertical-align: top;\n",
              "    }\n",
              "\n",
              "    .dataframe thead th {\n",
              "        text-align: right;\n",
              "    }\n",
              "</style>\n",
              "<table border=\"1\" class=\"dataframe\">\n",
              "  <thead>\n",
              "    <tr style=\"text-align: right;\">\n",
              "      <th></th>\n",
              "      <th>company_name_id</th>\n",
              "      <th>company_name</th>\n",
              "      <th>url</th>\n",
              "      <th>year_founded</th>\n",
              "      <th>city</th>\n",
              "      <th>state</th>\n",
              "      <th>country</th>\n",
              "      <th>zip_code</th>\n",
              "      <th>full_time_employees</th>\n",
              "      <th>company_type</th>\n",
              "      <th>...</th>\n",
              "      <th>business_model</th>\n",
              "      <th>social_impact</th>\n",
              "      <th>description</th>\n",
              "      <th>description_short</th>\n",
              "      <th>source_count</th>\n",
              "      <th>data_types</th>\n",
              "      <th>example_uses</th>\n",
              "      <th>data_impacts</th>\n",
              "      <th>financial_info</th>\n",
              "      <th>last_updated</th>\n",
              "    </tr>\n",
              "  </thead>\n",
              "  <tbody>\n",
              "    <tr>\n",
              "      <th>524</th>\n",
              "      <td>zillow</td>\n",
              "      <td>Zillow</td>\n",
              "      <td>http://www.zillow.com/</td>\n",
              "      <td>2006.0</td>\n",
              "      <td>Seattle</td>\n",
              "      <td>WA</td>\n",
              "      <td>us</td>\n",
              "      <td>98101.0</td>\n",
              "      <td>1,001-5,000</td>\n",
              "      <td>Public</td>\n",
              "      <td>...</td>\n",
              "      <td>NaN</td>\n",
              "      <td>NaN</td>\n",
              "      <td>Zillow is a home and real estate marketplace d...</td>\n",
              "      <td>Zillow is an online real estate database.</td>\n",
              "      <td>NaN</td>\n",
              "      <td>NaN</td>\n",
              "      <td>NaN</td>\n",
              "      <td>[]</td>\n",
              "      <td>NaN</td>\n",
              "      <td>2014-08-21 15:25:48.411679</td>\n",
              "    </tr>\n",
              "    <tr>\n",
              "      <th>525</th>\n",
              "      <td>zocdoc</td>\n",
              "      <td>ZocDoc</td>\n",
              "      <td>http://www.zocdoc.com/</td>\n",
              "      <td>2007.0</td>\n",
              "      <td>New York</td>\n",
              "      <td>NY</td>\n",
              "      <td>us</td>\n",
              "      <td>10012.0</td>\n",
              "      <td>501-1,000</td>\n",
              "      <td>Private</td>\n",
              "      <td>...</td>\n",
              "      <td>NaN</td>\n",
              "      <td>NaN</td>\n",
              "      <td>ZocDoc is a service to help people find and ma...</td>\n",
              "      <td>Patients use ZocDoc to book appointments with ...</td>\n",
              "      <td>NaN</td>\n",
              "      <td>NaN</td>\n",
              "      <td>NaN</td>\n",
              "      <td>[]</td>\n",
              "      <td>NaN</td>\n",
              "      <td>2014-04-03 20:10:00.163762</td>\n",
              "    </tr>\n",
              "    <tr>\n",
              "      <th>526</th>\n",
              "      <td>zonability</td>\n",
              "      <td>Zonability</td>\n",
              "      <td>http://www.zonability.com/</td>\n",
              "      <td>2003.0</td>\n",
              "      <td>Austin</td>\n",
              "      <td>TX</td>\n",
              "      <td>us</td>\n",
              "      <td>78702.0</td>\n",
              "      <td>11-50</td>\n",
              "      <td>Private</td>\n",
              "      <td>...</td>\n",
              "      <td>Business to Business, Business to Government, ...</td>\n",
              "      <td>NaN</td>\n",
              "      <td>Zonability is a web application that provides ...</td>\n",
              "      <td>Zonability is a web application that provides ...</td>\n",
              "      <td>NaN</td>\n",
              "      <td>NaN</td>\n",
              "      <td>NaN</td>\n",
              "      <td>[]</td>\n",
              "      <td>NaN</td>\n",
              "      <td>2014-11-20 12:45:39.832982</td>\n",
              "    </tr>\n",
              "    <tr>\n",
              "      <th>527</th>\n",
              "      <td>zoner</td>\n",
              "      <td>Zoner</td>\n",
              "      <td>www.Zonerapp.com</td>\n",
              "      <td>2011.0</td>\n",
              "      <td>New York</td>\n",
              "      <td>NY</td>\n",
              "      <td>us</td>\n",
              "      <td>10018.0</td>\n",
              "      <td>1-10</td>\n",
              "      <td>Private</td>\n",
              "      <td>...</td>\n",
              "      <td>Business to Business, Business to Consumer, no...</td>\n",
              "      <td>NaN</td>\n",
              "      <td>&lt;p&gt;Zoner is a Digital Zoning Optimization soft...</td>\n",
              "      <td>Zoner leverages transparency over fear so a pr...</td>\n",
              "      <td>1-10</td>\n",
              "      <td>NaN</td>\n",
              "      <td>NaN</td>\n",
              "      <td>[]</td>\n",
              "      <td>NaN</td>\n",
              "      <td>2014-11-12 18:11:48.966303</td>\n",
              "    </tr>\n",
              "    <tr>\n",
              "      <th>528</th>\n",
              "      <td>zurich-insurance-risk-room</td>\n",
              "      <td>Zurich Insurance (Risk Room)</td>\n",
              "      <td>http://www.zurichna.com/</td>\n",
              "      <td>1912.0</td>\n",
              "      <td>Schaumburg</td>\n",
              "      <td>IL</td>\n",
              "      <td>us</td>\n",
              "      <td>60196.0</td>\n",
              "      <td>10,001+</td>\n",
              "      <td>Public</td>\n",
              "      <td>...</td>\n",
              "      <td>NaN</td>\n",
              "      <td>NaN</td>\n",
              "      <td>Zurich Risk Room helps corporate customers gai...</td>\n",
              "      <td>The Zurich Risk Room is a proprietary global r...</td>\n",
              "      <td>NaN</td>\n",
              "      <td>NaN</td>\n",
              "      <td>NaN</td>\n",
              "      <td>[]</td>\n",
              "      <td>NaN</td>\n",
              "      <td>2014-04-03 20:05:51.995718</td>\n",
              "    </tr>\n",
              "  </tbody>\n",
              "</table>\n",
              "<p>5 rows × 22 columns</p>\n",
              "</div>"
            ],
            "text/plain": [
              "                company_name_id                  company_name  \\\n",
              "524                      zillow                        Zillow   \n",
              "525                      zocdoc                        ZocDoc   \n",
              "526                  zonability                    Zonability   \n",
              "527                       zoner                         Zoner   \n",
              "528  zurich-insurance-risk-room  Zurich Insurance (Risk Room)   \n",
              "\n",
              "                            url  year_founded        city state country  \\\n",
              "524      http://www.zillow.com/        2006.0     Seattle    WA      us   \n",
              "525      http://www.zocdoc.com/        2007.0    New York    NY      us   \n",
              "526  http://www.zonability.com/        2003.0      Austin    TX      us   \n",
              "527            www.Zonerapp.com        2011.0    New York    NY      us   \n",
              "528    http://www.zurichna.com/        1912.0  Schaumburg    IL      us   \n",
              "\n",
              "     zip_code full_time_employees company_type  ...  \\\n",
              "524   98101.0         1,001-5,000       Public  ...   \n",
              "525   10012.0           501-1,000      Private  ...   \n",
              "526   78702.0               11-50      Private  ...   \n",
              "527   10018.0                1-10      Private  ...   \n",
              "528   60196.0             10,001+       Public  ...   \n",
              "\n",
              "                                        business_model social_impact  \\\n",
              "524                                                NaN           NaN   \n",
              "525                                                NaN           NaN   \n",
              "526  Business to Business, Business to Government, ...           NaN   \n",
              "527  Business to Business, Business to Consumer, no...           NaN   \n",
              "528                                                NaN           NaN   \n",
              "\n",
              "                                           description  \\\n",
              "524  Zillow is a home and real estate marketplace d...   \n",
              "525  ZocDoc is a service to help people find and ma...   \n",
              "526  Zonability is a web application that provides ...   \n",
              "527  <p>Zoner is a Digital Zoning Optimization soft...   \n",
              "528  Zurich Risk Room helps corporate customers gai...   \n",
              "\n",
              "                                     description_short source_count  \\\n",
              "524          Zillow is an online real estate database.          NaN   \n",
              "525  Patients use ZocDoc to book appointments with ...          NaN   \n",
              "526  Zonability is a web application that provides ...          NaN   \n",
              "527  Zoner leverages transparency over fear so a pr...         1-10   \n",
              "528  The Zurich Risk Room is a proprietary global r...          NaN   \n",
              "\n",
              "    data_types example_uses data_impacts financial_info  \\\n",
              "524        NaN          NaN           []            NaN   \n",
              "525        NaN          NaN           []            NaN   \n",
              "526        NaN          NaN           []            NaN   \n",
              "527        NaN          NaN           []            NaN   \n",
              "528        NaN          NaN           []            NaN   \n",
              "\n",
              "                   last_updated  \n",
              "524  2014-08-21 15:25:48.411679  \n",
              "525  2014-04-03 20:10:00.163762  \n",
              "526  2014-11-20 12:45:39.832982  \n",
              "527  2014-11-12 18:11:48.966303  \n",
              "528  2014-04-03 20:05:51.995718  \n",
              "\n",
              "[5 rows x 22 columns]"
            ]
          },
          "execution_count": 148,
          "metadata": {},
          "output_type": "execute_result"
        }
      ],
      "source": [
        "#print the last 5 entries of our dataset\n",
        "print('The last five entries of our dataset')\n",
        "DataSet.tail()"
      ]
    },
    {
      "cell_type": "code",
      "execution_count": null,
      "id": "258035ce",
      "metadata": {
        "id": "258035ce",
        "outputId": "d26c1eef-3a33-48cd-b64e-117ce3e0fbd7"
      },
      "outputs": [
        {
          "name": "stdout",
          "output_type": "stream",
          "text": [
            "Size of our dataset is :  11638\n"
          ]
        }
      ],
      "source": [
        "#print the size of our dataset\n",
        "print('Size of our dataset is : ',DataSet.size)"
      ]
    },
    {
      "cell_type": "code",
      "execution_count": null,
      "id": "f68603c8",
      "metadata": {
        "id": "f68603c8",
        "outputId": "b6c85984-65e9-4859-e7f5-b9be586bd0dc"
      },
      "outputs": [
        {
          "name": "stdout",
          "output_type": "stream",
          "text": [
            "<class 'pandas.core.frame.DataFrame'>\n",
            "RangeIndex: 529 entries, 0 to 528\n",
            "Data columns (total 22 columns):\n",
            " #   Column               Non-Null Count  Dtype  \n",
            "---  ------               --------------  -----  \n",
            " 0   company_name_id      529 non-null    object \n",
            " 1   company_name         529 non-null    object \n",
            " 2   url                  529 non-null    object \n",
            " 3   year_founded         528 non-null    float64\n",
            " 4   city                 496 non-null    object \n",
            " 5   state                529 non-null    object \n",
            " 6   country              529 non-null    object \n",
            " 7   zip_code             492 non-null    float64\n",
            " 8   full_time_employees  500 non-null    object \n",
            " 9   company_type         513 non-null    object \n",
            " 10  company_category     526 non-null    object \n",
            " 11  revenue_source       519 non-null    object \n",
            " 12  business_model       453 non-null    object \n",
            " 13  social_impact        16 non-null     object \n",
            " 14  description          529 non-null    object \n",
            " 15  description_short    529 non-null    object \n",
            " 16  source_count         226 non-null    object \n",
            " 17  data_types           142 non-null    object \n",
            " 18  example_uses         8 non-null      object \n",
            " 19  data_impacts         529 non-null    object \n",
            " 20  financial_info       142 non-null    object \n",
            " 21  last_updated         529 non-null    object \n",
            "dtypes: float64(2), object(20)\n",
            "memory usage: 91.0+ KB\n"
          ]
        }
      ],
      "source": [
        "#print information of all variables in the dataset\n",
        "DataSet.info()"
      ]
    },
    {
      "cell_type": "code",
      "execution_count": null,
      "id": "caaac229",
      "metadata": {
        "id": "caaac229",
        "outputId": "f330a4ac-15d0-4197-db2d-60a0fc007ac3"
      },
      "outputs": [
        {
          "data": {
            "text/html": [
              "<div>\n",
              "<style scoped>\n",
              "    .dataframe tbody tr th:only-of-type {\n",
              "        vertical-align: middle;\n",
              "    }\n",
              "\n",
              "    .dataframe tbody tr th {\n",
              "        vertical-align: top;\n",
              "    }\n",
              "\n",
              "    .dataframe thead th {\n",
              "        text-align: right;\n",
              "    }\n",
              "</style>\n",
              "<table border=\"1\" class=\"dataframe\">\n",
              "  <thead>\n",
              "    <tr style=\"text-align: right;\">\n",
              "      <th></th>\n",
              "      <th>year_founded</th>\n",
              "      <th>zip_code</th>\n",
              "    </tr>\n",
              "  </thead>\n",
              "  <tbody>\n",
              "    <tr>\n",
              "      <th>count</th>\n",
              "      <td>528.000000</td>\n",
              "      <td>492.000000</td>\n",
              "    </tr>\n",
              "    <tr>\n",
              "      <th>mean</th>\n",
              "      <td>1992.700758</td>\n",
              "      <td>47455.878049</td>\n",
              "    </tr>\n",
              "    <tr>\n",
              "      <th>std</th>\n",
              "      <td>33.853259</td>\n",
              "      <td>37374.897009</td>\n",
              "    </tr>\n",
              "    <tr>\n",
              "      <th>min</th>\n",
              "      <td>1799.000000</td>\n",
              "      <td>0.000000</td>\n",
              "    </tr>\n",
              "    <tr>\n",
              "      <th>25%</th>\n",
              "      <td>1994.000000</td>\n",
              "      <td>10018.750000</td>\n",
              "    </tr>\n",
              "    <tr>\n",
              "      <th>50%</th>\n",
              "      <td>2007.000000</td>\n",
              "      <td>37025.500000</td>\n",
              "    </tr>\n",
              "    <tr>\n",
              "      <th>75%</th>\n",
              "      <td>2010.000000</td>\n",
              "      <td>94025.000000</td>\n",
              "    </tr>\n",
              "    <tr>\n",
              "      <th>max</th>\n",
              "      <td>2015.000000</td>\n",
              "      <td>98144.000000</td>\n",
              "    </tr>\n",
              "  </tbody>\n",
              "</table>\n",
              "</div>"
            ],
            "text/plain": [
              "       year_founded      zip_code\n",
              "count    528.000000    492.000000\n",
              "mean    1992.700758  47455.878049\n",
              "std       33.853259  37374.897009\n",
              "min     1799.000000      0.000000\n",
              "25%     1994.000000  10018.750000\n",
              "50%     2007.000000  37025.500000\n",
              "75%     2010.000000  94025.000000\n",
              "max     2015.000000  98144.000000"
            ]
          },
          "execution_count": 151,
          "metadata": {},
          "output_type": "execute_result"
        }
      ],
      "source": [
        "#get summary of orginal data\n",
        "DataSet.describe()"
      ]
    },
    {
      "cell_type": "code",
      "execution_count": null,
      "id": "a272d87e",
      "metadata": {
        "id": "a272d87e",
        "outputId": "9b8640bb-0078-4dd3-f322-1f63b0c25c30"
      },
      "outputs": [
        {
          "name": "stdout",
          "output_type": "stream",
          "text": [
            "From above it is clear that only 2 columns : \"year_founded\" and \"zip_code\" have numeric value.\n"
          ]
        }
      ],
      "source": [
        "#finding out numeric and non-numeric data type columns\n",
        "print('From above it is clear that only 2 columns : \"year_founded\" and \"zip_code\" have numeric value.')"
      ]
    },
    {
      "cell_type": "code",
      "execution_count": null,
      "id": "0d09a71b",
      "metadata": {
        "id": "0d09a71b",
        "outputId": "ae61eec7-7e1c-4e0c-9604-0386dbcb5b67"
      },
      "outputs": [
        {
          "name": "stdout",
          "output_type": "stream",
          "text": [
            "Features in our dataset\n"
          ]
        },
        {
          "data": {
            "text/plain": [
              "Index(['company_name_id', 'company_name', 'url', 'year_founded', 'city',\n",
              "       'state', 'country', 'zip_code', 'full_time_employees', 'company_type',\n",
              "       'company_category', 'revenue_source', 'business_model', 'social_impact',\n",
              "       'description', 'description_short', 'source_count', 'data_types',\n",
              "       'example_uses', 'data_impacts', 'financial_info', 'last_updated'],\n",
              "      dtype='object')"
            ]
          },
          "execution_count": 153,
          "metadata": {},
          "output_type": "execute_result"
        }
      ],
      "source": [
        "#print the columns in our dataset\n",
        "print('Features in our dataset')\n",
        "DataSet.columns"
      ]
    },
    {
      "cell_type": "code",
      "execution_count": null,
      "id": "232e4612",
      "metadata": {
        "id": "232e4612",
        "outputId": "5d198e5f-947b-47cc-8d88-7f4551551023"
      },
      "outputs": [
        {
          "name": "stdout",
          "output_type": "stream",
          "text": [
            "the number of unique values in each column of our dataset.\n"
          ]
        },
        {
          "data": {
            "text/html": [
              "<div>\n",
              "<style scoped>\n",
              "    .dataframe tbody tr th:only-of-type {\n",
              "        vertical-align: middle;\n",
              "    }\n",
              "\n",
              "    .dataframe tbody tr th {\n",
              "        vertical-align: top;\n",
              "    }\n",
              "\n",
              "    .dataframe thead th {\n",
              "        text-align: right;\n",
              "    }\n",
              "</style>\n",
              "<table border=\"1\" class=\"dataframe\">\n",
              "  <thead>\n",
              "    <tr style=\"text-align: right;\">\n",
              "      <th></th>\n",
              "      <th>index</th>\n",
              "      <th>0</th>\n",
              "    </tr>\n",
              "  </thead>\n",
              "  <tbody>\n",
              "    <tr>\n",
              "      <th>0</th>\n",
              "      <td>company_name_id</td>\n",
              "      <td>529</td>\n",
              "    </tr>\n",
              "    <tr>\n",
              "      <th>1</th>\n",
              "      <td>company_name</td>\n",
              "      <td>529</td>\n",
              "    </tr>\n",
              "    <tr>\n",
              "      <th>2</th>\n",
              "      <td>url</td>\n",
              "      <td>528</td>\n",
              "    </tr>\n",
              "    <tr>\n",
              "      <th>3</th>\n",
              "      <td>year_founded</td>\n",
              "      <td>95</td>\n",
              "    </tr>\n",
              "    <tr>\n",
              "      <th>4</th>\n",
              "      <td>city</td>\n",
              "      <td>202</td>\n",
              "    </tr>\n",
              "    <tr>\n",
              "      <th>5</th>\n",
              "      <td>state</td>\n",
              "      <td>39</td>\n",
              "    </tr>\n",
              "    <tr>\n",
              "      <th>6</th>\n",
              "      <td>country</td>\n",
              "      <td>1</td>\n",
              "    </tr>\n",
              "    <tr>\n",
              "      <th>7</th>\n",
              "      <td>zip_code</td>\n",
              "      <td>326</td>\n",
              "    </tr>\n",
              "    <tr>\n",
              "      <th>8</th>\n",
              "      <td>full_time_employees</td>\n",
              "      <td>8</td>\n",
              "    </tr>\n",
              "    <tr>\n",
              "      <th>9</th>\n",
              "      <td>company_type</td>\n",
              "      <td>9</td>\n",
              "    </tr>\n",
              "    <tr>\n",
              "      <th>10</th>\n",
              "      <td>company_category</td>\n",
              "      <td>20</td>\n",
              "    </tr>\n",
              "    <tr>\n",
              "      <th>11</th>\n",
              "      <td>revenue_source</td>\n",
              "      <td>100</td>\n",
              "    </tr>\n",
              "    <tr>\n",
              "      <th>12</th>\n",
              "      <td>business_model</td>\n",
              "      <td>27</td>\n",
              "    </tr>\n",
              "    <tr>\n",
              "      <th>13</th>\n",
              "      <td>social_impact</td>\n",
              "      <td>11</td>\n",
              "    </tr>\n",
              "    <tr>\n",
              "      <th>14</th>\n",
              "      <td>description</td>\n",
              "      <td>529</td>\n",
              "    </tr>\n",
              "    <tr>\n",
              "      <th>15</th>\n",
              "      <td>description_short</td>\n",
              "      <td>529</td>\n",
              "    </tr>\n",
              "    <tr>\n",
              "      <th>16</th>\n",
              "      <td>source_count</td>\n",
              "      <td>4</td>\n",
              "    </tr>\n",
              "    <tr>\n",
              "      <th>17</th>\n",
              "      <td>data_types</td>\n",
              "      <td>38</td>\n",
              "    </tr>\n",
              "    <tr>\n",
              "      <th>18</th>\n",
              "      <td>example_uses</td>\n",
              "      <td>8</td>\n",
              "    </tr>\n",
              "    <tr>\n",
              "      <th>19</th>\n",
              "      <td>data_impacts</td>\n",
              "      <td>10</td>\n",
              "    </tr>\n",
              "    <tr>\n",
              "      <th>20</th>\n",
              "      <td>financial_info</td>\n",
              "      <td>142</td>\n",
              "    </tr>\n",
              "    <tr>\n",
              "      <th>21</th>\n",
              "      <td>last_updated</td>\n",
              "      <td>529</td>\n",
              "    </tr>\n",
              "  </tbody>\n",
              "</table>\n",
              "</div>"
            ],
            "text/plain": [
              "                  index    0\n",
              "0       company_name_id  529\n",
              "1          company_name  529\n",
              "2                   url  528\n",
              "3          year_founded   95\n",
              "4                  city  202\n",
              "5                 state   39\n",
              "6               country    1\n",
              "7              zip_code  326\n",
              "8   full_time_employees    8\n",
              "9          company_type    9\n",
              "10     company_category   20\n",
              "11       revenue_source  100\n",
              "12       business_model   27\n",
              "13        social_impact   11\n",
              "14          description  529\n",
              "15    description_short  529\n",
              "16         source_count    4\n",
              "17           data_types   38\n",
              "18         example_uses    8\n",
              "19         data_impacts   10\n",
              "20       financial_info  142\n",
              "21         last_updated  529"
            ]
          },
          "execution_count": 154,
          "metadata": {},
          "output_type": "execute_result"
        }
      ],
      "source": [
        "#print the number of unique values in each column of our dataset\n",
        "print('the number of unique values in each column of our dataset.')\n",
        "\n",
        "#nunique returns a series, we have to convert it into data frame\n",
        "unique = DataSet.nunique().reset_index()\n",
        "unique"
      ]
    },
    {
      "cell_type": "code",
      "execution_count": null,
      "id": "3c88eb79",
      "metadata": {
        "id": "3c88eb79",
        "outputId": "34d74506-92ed-4b0d-d5a7-2bbbd48cfcf7"
      },
      "outputs": [
        {
          "data": {
            "image/png": "[encoded data removed]",
            "text/plain": [
              "<Figure size 576x720 with 1 Axes>"
            ]
          },
          "metadata": {
            "needs_background": "light"
          },
          "output_type": "display_data"
        }
      ],
      "source": [
        "#a plot of number of unique values in each feature Vs features\n",
        "unique.columns = ['Feature','Number_of_Unique_Values']\n",
        "#sns.barplot(x='Feature',y='Number of Unique',data=unique)\n",
        "unique = unique.sort_values(by='Number_of_Unique_Values')\n",
        "ind = np.arange(unique.shape[0])\n",
        "width = 1.7\n",
        "fig, ax = plt.subplots(figsize=(8,10))\n",
        "rects = ax.barh(ind, unique.Number_of_Unique_Values.values, color='#4A148C')\n",
        "ax.set_yticks(ind)\n",
        "ax.set_yticklabels(unique.Feature.values, rotation='horizontal')\n",
        "ax.set_xlabel(\"Number of unique values\")\n",
        "ax.set_title(\"Number of unique values in each column\")\n",
        "plt.show()"
      ]
    },
    {
      "cell_type": "code",
      "execution_count": null,
      "id": "d5c45001",
      "metadata": {
        "id": "d5c45001",
        "outputId": "22b6434d-30ef-4195-b3df-15924c709b19"
      },
      "outputs": [
        {
          "name": "stdout",
          "output_type": "stream",
          "text": [
            "The only unique value in country feature is \n"
          ]
        },
        {
          "data": {
            "text/plain": [
              "array(['us'], dtype=object)"
            ]
          },
          "execution_count": 156,
          "metadata": {},
          "output_type": "execute_result"
        }
      ],
      "source": [
        "#from above bar plot we can see that the 6th plot of country has neglible unique values and from the previous data frame we see that it is 1\n",
        "print('The only unique value in country feature is ')\n",
        "DataSet[\"country\"].unique()"
      ]
    },
    {
      "cell_type": "code",
      "execution_count": null,
      "id": "93ccb9ba",
      "metadata": {
        "id": "93ccb9ba"
      },
      "outputs": [],
      "source": [
        "#'us' is the only unique value and since our dataset is based on 'Companies in the US' we can drop the column\n",
        "# we can as well drop the 'zip_code' feauture\n",
        "DataSet = DataSet.drop(['country','zip_code'], axis = 1)"
      ]
    },
    {
      "cell_type": "code",
      "execution_count": null,
      "id": "2f417d7f",
      "metadata": {
        "id": "2f417d7f",
        "outputId": "111d86bc-aaaa-4b2c-b831-a4406735e3be"
      },
      "outputs": [
        {
          "name": "stdout",
          "output_type": "stream",
          "text": [
            "Are there missing values in our dataset ?  True\n"
          ]
        }
      ],
      "source": [
        "#check for missing values\n",
        "print(\"Are there missing values in our dataset ? \",DataSet.isnull().values.any())"
      ]
    },
    {
      "cell_type": "code",
      "execution_count": null,
      "id": "5933a556",
      "metadata": {
        "id": "5933a556",
        "outputId": "69efb57d-e8f5-485e-b19e-ea942a85b38e"
      },
      "outputs": [
        {
          "name": "stdout",
          "output_type": "stream",
          "text": [
            "The number of missing values in our dataset :  2279\n"
          ]
        }
      ],
      "source": [
        "#So, we have null values!\n",
        "#print the number of missing values present\n",
        "print(\"The number of missing values in our dataset : \",DataSet.isnull().values.sum())"
      ]
    },
    {
      "cell_type": "code",
      "execution_count": null,
      "id": "7a3153f3",
      "metadata": {
        "id": "7a3153f3",
        "outputId": "157072e9-cb4f-45d7-d030-58fcb29c56e1"
      },
      "outputs": [
        {
          "data": {
            "image/png": "[encoded data removed]",
            "text/plain": [
              "<Figure size 576x720 with 1 Axes>"
            ]
          },
          "metadata": {
            "needs_background": "light"
          },
          "output_type": "display_data"
        }
      ],
      "source": [
        "#we have a lot of null values!\n",
        "#lets analyze the number of NAN values for each column\n",
        "missing = DataSet.isnull().sum(axis=0).reset_index()\n",
        "missing.columns = ['Feature', 'Number_missing_values']\n",
        "missing = missing.sort_values(by='Number_missing_values')\n",
        "\n",
        "ind = np.arange(missing.shape[0])\n",
        "width = 1.7\n",
        "fig, ax = plt.subplots(figsize=(8,10))\n",
        "rects = ax.barh(ind, missing.Number_missing_values.values, color='#4A148C')\n",
        "ax.set_yticks(ind)\n",
        "ax.set_yticklabels(missing.Feature.values, rotation='horizontal')\n",
        "ax.set_xlabel(\"Number of missing values\")\n",
        "ax.set_title(\"Number of missing values in each column\")\n",
        "plt.show()\n"
      ]
    },
    {
      "cell_type": "code",
      "execution_count": null,
      "id": "e4303519",
      "metadata": {
        "id": "e4303519"
      },
      "outputs": [],
      "source": [
        "#Let's prepare our dataset.\n",
        "#In this first part of preparing our dataset, we decide on which columns to keep by clearly stating the reasons for\n",
        "#dropping the columns which are not required in our analysis."
      ]
    },
    {
      "cell_type": "code",
      "execution_count": null,
      "id": "4ee69571",
      "metadata": {
        "id": "4ee69571"
      },
      "outputs": [],
      "source": [
        "#from the above plot it is clear that we cannot use 'example_uses' and 'social_impact' as they have a lot of missing values\n",
        "#we cannot also directly use 'data_types' and 'financial_info'\n",
        "#let us drop 'example_uses' and 'social_impact' along with the above two\n",
        "#'source_count' also has a considerable number of missing values, so let's drop it as well\n",
        "\n",
        "DataSet = DataSet.drop(['example_uses','social_impact','data_types','financial_info','source_count'], axis = 1)\n"
      ]
    },
    {
      "cell_type": "code",
      "execution_count": null,
      "id": "7026e1f5",
      "metadata": {
        "id": "7026e1f5",
        "outputId": "8f0bb252-3199-4cf5-aa25-e9bf290a6c81"
      },
      "outputs": [
        {
          "name": "stdout",
          "output_type": "stream",
          "text": [
            "515  out of  529  are empty\n"
          ]
        }
      ],
      "source": [
        "\n",
        "#'data_impacts' though has no missing values (as indicated in above plot), has a lot of empty lists !\n",
        "d_imp = DataSet['data_impacts']\n",
        "\n",
        "#let's count the number of empty lists and check whether if it is useful for our analysis\n",
        "count=0\n",
        "\n",
        "for i in range(0,len(d_imp)):\n",
        "    if len(d_imp[i]) == 2:\n",
        "        count = count+1\n",
        "\n",
        "print(count,\" out of \",len(d_imp),\" are empty\")\n",
        "\n",
        "#that's a lot of empty lists, hence we can drop that as well\n",
        "DataSet = DataSet.drop(['data_impacts'],axis=1)\n"
      ]
    },
    {
      "cell_type": "code",
      "execution_count": null,
      "id": "5a1c3f67",
      "metadata": {
        "id": "5a1c3f67",
        "outputId": "cd6116bf-66d9-45d8-8726-01f2c1efb946"
      },
      "outputs": [
        {
          "name": "stdout",
          "output_type": "stream",
          "text": [
            "On an average, corresponding pairs of 'company_name' and 'company_name_id' have similarity of : 75.20003963831614 %\n",
            "On an average, corresponding pairs of 'company_name' and 'url' have similarity of : 43.2205438099681 %\n",
            "Lower similarity is due to the presence of prefixes such as 'http://','www.' and suffix such as '.com'\n"
          ]
        }
      ],
      "source": [
        "#Let's check 'company_name_id' and 'company_name' if their contents are similar or not\n",
        "#If they are similar we can drop 'company_name_id'\n",
        "from difflib import SequenceMatcher\n",
        "\n",
        "def similar(a,b):\n",
        "    return SequenceMatcher(None,a,b).ratio()\n",
        "\n",
        "avg = 0 #average similarity ratio\n",
        "\n",
        "c_name = DataSet[\"company_name\"] #stores 'company_name'\n",
        "c_id = DataSet[\"company_name_id\"] #stores 'company_name_id'\n",
        "\n",
        "for i in range(0,len(c_name)):\n",
        "    avg = avg + similar(c_name[i],c_id[i])\n",
        "avg = (avg/len(c_name)) * 100\n",
        "print(\"On an average, corresponding pairs of 'company_name' and 'company_name_id' have similarity of :\",avg,\"%\")\n",
        "\n",
        "#Let's check the similarity between 'company_name' and 'url'\n",
        "avg = 0\n",
        "\n",
        "url = DataSet[\"url\"] #stores 'url'\n",
        "\n",
        "for i in range(0,len(c_name)):\n",
        "    avg = avg + similar(c_name[i],url[i])\n",
        "avg = (avg/len(c_name)) * 100\n",
        "print(\"On an average, corresponding pairs of 'company_name' and 'url' have similarity of :\",avg,\"%\")\n",
        "print(\"Lower similarity is due to the presence of prefixes such as 'http://','www.' and suffix such as '.com'\")"
      ]
    },
    {
      "cell_type": "code",
      "execution_count": null,
      "id": "aa348d9d",
      "metadata": {
        "id": "aa348d9d"
      },
      "outputs": [],
      "source": [
        "#Let's drop 'company_name_id'\n",
        "#Since the URL does not provide any particular insights into the company, we can drop it\n",
        "DataSet = DataSet.drop([\"company_name_id\",\"url\"],axis=1)"
      ]
    },
    {
      "cell_type": "code",
      "execution_count": null,
      "id": "a2972753",
      "metadata": {
        "id": "a2972753",
        "outputId": "e21725f1-4914-4cac-c174-b8ee0cf23077"
      },
      "outputs": [
        {
          "data": {
            "text/html": [
              "<div>\n",
              "<style scoped>\n",
              "    .dataframe tbody tr th:only-of-type {\n",
              "        vertical-align: middle;\n",
              "    }\n",
              "\n",
              "    .dataframe tbody tr th {\n",
              "        vertical-align: top;\n",
              "    }\n",
              "\n",
              "    .dataframe thead th {\n",
              "        text-align: right;\n",
              "    }\n",
              "</style>\n",
              "<table border=\"1\" class=\"dataframe\">\n",
              "  <thead>\n",
              "    <tr style=\"text-align: right;\">\n",
              "      <th></th>\n",
              "      <th>company_name</th>\n",
              "      <th>year_founded</th>\n",
              "      <th>city</th>\n",
              "      <th>state</th>\n",
              "      <th>full_time_employees</th>\n",
              "      <th>company_type</th>\n",
              "      <th>company_category</th>\n",
              "      <th>revenue_source</th>\n",
              "      <th>business_model</th>\n",
              "      <th>description</th>\n",
              "      <th>description_short</th>\n",
              "    </tr>\n",
              "  </thead>\n",
              "  <tbody>\n",
              "    <tr>\n",
              "      <th>0</th>\n",
              "      <td>3 Round Stones, Inc.</td>\n",
              "      <td>2010.0</td>\n",
              "      <td>Washington</td>\n",
              "      <td>DC</td>\n",
              "      <td>1-10</td>\n",
              "      <td>Private</td>\n",
              "      <td>Data/Technology</td>\n",
              "      <td>Data analysis for clients, Database licensing,...</td>\n",
              "      <td>Business to Business, Business to Consumer</td>\n",
              "      <td>3 Round Stones produces a platform for publish...</td>\n",
              "      <td>Our Open Source platform is used by the Fortun...</td>\n",
              "    </tr>\n",
              "    <tr>\n",
              "      <th>1</th>\n",
              "      <td>48 Factoring Inc.</td>\n",
              "      <td>2014.0</td>\n",
              "      <td>Philadelphia</td>\n",
              "      <td>PA</td>\n",
              "      <td>51-200</td>\n",
              "      <td>Private</td>\n",
              "      <td>Finance &amp; Investment</td>\n",
              "      <td>Financial Services</td>\n",
              "      <td>Business to Business</td>\n",
              "      <td>The company mission is to provide finance to s...</td>\n",
              "      <td>48 Factoring Inc. is one of the best financial...</td>\n",
              "    </tr>\n",
              "    <tr>\n",
              "      <th>2</th>\n",
              "      <td>5PSolutions</td>\n",
              "      <td>2007.0</td>\n",
              "      <td>Fairfax</td>\n",
              "      <td>VA</td>\n",
              "      <td>1-10</td>\n",
              "      <td>Private</td>\n",
              "      <td>Data/Technology</td>\n",
              "      <td>Subscriptions, User fees for web or mobile access</td>\n",
              "      <td>Business to Business, Business to Consumer, Bu...</td>\n",
              "      <td>At 5PSolutions, we wish to make all basic info...</td>\n",
              "      <td>5PSolutions are artisans of mobile platforms.</td>\n",
              "    </tr>\n",
              "    <tr>\n",
              "      <th>3</th>\n",
              "      <td>Abt Associates</td>\n",
              "      <td>1965.0</td>\n",
              "      <td>Cambridge</td>\n",
              "      <td>MA</td>\n",
              "      <td>1,001-5,000</td>\n",
              "      <td>Private</td>\n",
              "      <td>Research &amp; Consulting</td>\n",
              "      <td>Data analysis for clients, Database licensing</td>\n",
              "      <td>NaN</td>\n",
              "      <td>Abt Associates is a mission-driven, internatio...</td>\n",
              "      <td>Abt Associates is a mission-driven, global lea...</td>\n",
              "    </tr>\n",
              "    <tr>\n",
              "      <th>4</th>\n",
              "      <td>Accela</td>\n",
              "      <td>1999.0</td>\n",
              "      <td>San Ramon</td>\n",
              "      <td>CA</td>\n",
              "      <td>501-1,000</td>\n",
              "      <td>Private</td>\n",
              "      <td>Governance</td>\n",
              "      <td>Not reported by company</td>\n",
              "      <td>Business to Consumer</td>\n",
              "      <td>Accela powers thousands of services and millio...</td>\n",
              "      <td>Accela improves citizen engagement by making i...</td>\n",
              "    </tr>\n",
              "  </tbody>\n",
              "</table>\n",
              "</div>"
            ],
            "text/plain": [
              "           company_name  year_founded           city state  \\\n",
              "0  3 Round Stones, Inc.        2010.0     Washington    DC   \n",
              "1     48 Factoring Inc.        2014.0   Philadelphia    PA   \n",
              "2           5PSolutions        2007.0        Fairfax    VA   \n",
              "3        Abt Associates        1965.0      Cambridge    MA   \n",
              "4                Accela        1999.0      San Ramon    CA   \n",
              "\n",
              "  full_time_employees company_type       company_category  \\\n",
              "0                1-10      Private        Data/Technology   \n",
              "1              51-200      Private   Finance & Investment   \n",
              "2                1-10      Private        Data/Technology   \n",
              "3         1,001-5,000      Private  Research & Consulting   \n",
              "4           501-1,000      Private             Governance   \n",
              "\n",
              "                                      revenue_source  \\\n",
              "0  Data analysis for clients, Database licensing,...   \n",
              "1                                 Financial Services   \n",
              "2  Subscriptions, User fees for web or mobile access   \n",
              "3      Data analysis for clients, Database licensing   \n",
              "4                            Not reported by company   \n",
              "\n",
              "                                      business_model  \\\n",
              "0         Business to Business, Business to Consumer   \n",
              "1                               Business to Business   \n",
              "2  Business to Business, Business to Consumer, Bu...   \n",
              "3                                                NaN   \n",
              "4                               Business to Consumer   \n",
              "\n",
              "                                         description  \\\n",
              "0  3 Round Stones produces a platform for publish...   \n",
              "1  The company mission is to provide finance to s...   \n",
              "2  At 5PSolutions, we wish to make all basic info...   \n",
              "3  Abt Associates is a mission-driven, internatio...   \n",
              "4  Accela powers thousands of services and millio...   \n",
              "\n",
              "                                   description_short  \n",
              "0  Our Open Source platform is used by the Fortun...  \n",
              "1  48 Factoring Inc. is one of the best financial...  \n",
              "2      5PSolutions are artisans of mobile platforms.  \n",
              "3  Abt Associates is a mission-driven, global lea...  \n",
              "4  Accela improves citizen engagement by making i...  "
            ]
          },
          "execution_count": 166,
          "metadata": {},
          "output_type": "execute_result"
        }
      ],
      "source": [
        "#We can drop 'last_updated' feauture as for most of the companies it was updated on 2014 and a for few of them around 2014.\n",
        "#We can also drop 'description_short'\n",
        "DataSet = DataSet.drop(['last_updated'],axis=1)\n",
        "#Finally, we have obtained our dataset to work on!\n",
        "\n",
        "#display the first few entries of our data set\n",
        "DataSet.head()"
      ]
    },
    {
      "cell_type": "code",
      "execution_count": null,
      "id": "e3fdbc02",
      "metadata": {
        "id": "e3fdbc02",
        "outputId": "3420e4c2-52ff-47eb-e935-5835766f14f4"
      },
      "outputs": [
        {
          "data": {
            "text/html": [
              "<div>\n",
              "<style scoped>\n",
              "    .dataframe tbody tr th:only-of-type {\n",
              "        vertical-align: middle;\n",
              "    }\n",
              "\n",
              "    .dataframe tbody tr th {\n",
              "        vertical-align: top;\n",
              "    }\n",
              "\n",
              "    .dataframe thead th {\n",
              "        text-align: right;\n",
              "    }\n",
              "</style>\n",
              "<table border=\"1\" class=\"dataframe\">\n",
              "  <thead>\n",
              "    <tr style=\"text-align: right;\">\n",
              "      <th></th>\n",
              "      <th>company_name</th>\n",
              "      <th>year_founded</th>\n",
              "      <th>city</th>\n",
              "      <th>state</th>\n",
              "      <th>full_time_employees</th>\n",
              "      <th>company_type</th>\n",
              "      <th>company_category</th>\n",
              "      <th>revenue_source</th>\n",
              "      <th>business_model</th>\n",
              "      <th>description</th>\n",
              "      <th>description_short</th>\n",
              "    </tr>\n",
              "  </thead>\n",
              "  <tbody>\n",
              "    <tr>\n",
              "      <th>524</th>\n",
              "      <td>Zillow</td>\n",
              "      <td>2006.0</td>\n",
              "      <td>Seattle</td>\n",
              "      <td>WA</td>\n",
              "      <td>1,001-5,000</td>\n",
              "      <td>Public</td>\n",
              "      <td>Housing/Real Estate</td>\n",
              "      <td>Not reported by company</td>\n",
              "      <td>NaN</td>\n",
              "      <td>Zillow is a home and real estate marketplace d...</td>\n",
              "      <td>Zillow is an online real estate database.</td>\n",
              "    </tr>\n",
              "    <tr>\n",
              "      <th>525</th>\n",
              "      <td>ZocDoc</td>\n",
              "      <td>2007.0</td>\n",
              "      <td>New York</td>\n",
              "      <td>NY</td>\n",
              "      <td>501-1,000</td>\n",
              "      <td>Private</td>\n",
              "      <td>Healthcare</td>\n",
              "      <td>Not reported by company</td>\n",
              "      <td>NaN</td>\n",
              "      <td>ZocDoc is a service to help people find and ma...</td>\n",
              "      <td>Patients use ZocDoc to book appointments with ...</td>\n",
              "    </tr>\n",
              "    <tr>\n",
              "      <th>526</th>\n",
              "      <td>Zonability</td>\n",
              "      <td>2003.0</td>\n",
              "      <td>Austin</td>\n",
              "      <td>TX</td>\n",
              "      <td>11-50</td>\n",
              "      <td>Private</td>\n",
              "      <td>Housing/Real Estate</td>\n",
              "      <td>Not reported by company</td>\n",
              "      <td>Business to Business, Business to Government, ...</td>\n",
              "      <td>Zonability is a web application that provides ...</td>\n",
              "      <td>Zonability is a web application that provides ...</td>\n",
              "    </tr>\n",
              "    <tr>\n",
              "      <th>527</th>\n",
              "      <td>Zoner</td>\n",
              "      <td>2011.0</td>\n",
              "      <td>New York</td>\n",
              "      <td>NY</td>\n",
              "      <td>1-10</td>\n",
              "      <td>Private</td>\n",
              "      <td>Housing/Real Estate</td>\n",
              "      <td>Subscriptions</td>\n",
              "      <td>Business to Business, Business to Consumer, no...</td>\n",
              "      <td>&lt;p&gt;Zoner is a Digital Zoning Optimization soft...</td>\n",
              "      <td>Zoner leverages transparency over fear so a pr...</td>\n",
              "    </tr>\n",
              "    <tr>\n",
              "      <th>528</th>\n",
              "      <td>Zurich Insurance (Risk Room)</td>\n",
              "      <td>1912.0</td>\n",
              "      <td>Schaumburg</td>\n",
              "      <td>IL</td>\n",
              "      <td>10,001+</td>\n",
              "      <td>Public</td>\n",
              "      <td>Insurance</td>\n",
              "      <td>Not reported by company</td>\n",
              "      <td>NaN</td>\n",
              "      <td>Zurich Risk Room helps corporate customers gai...</td>\n",
              "      <td>The Zurich Risk Room is a proprietary global r...</td>\n",
              "    </tr>\n",
              "  </tbody>\n",
              "</table>\n",
              "</div>"
            ],
            "text/plain": [
              "                     company_name  year_founded        city state  \\\n",
              "524                        Zillow        2006.0     Seattle    WA   \n",
              "525                        ZocDoc        2007.0    New York    NY   \n",
              "526                    Zonability        2003.0      Austin    TX   \n",
              "527                         Zoner        2011.0    New York    NY   \n",
              "528  Zurich Insurance (Risk Room)        1912.0  Schaumburg    IL   \n",
              "\n",
              "    full_time_employees company_type     company_category  \\\n",
              "524         1,001-5,000       Public  Housing/Real Estate   \n",
              "525           501-1,000      Private           Healthcare   \n",
              "526               11-50      Private  Housing/Real Estate   \n",
              "527                1-10      Private  Housing/Real Estate   \n",
              "528             10,001+       Public            Insurance   \n",
              "\n",
              "              revenue_source  \\\n",
              "524  Not reported by company   \n",
              "525  Not reported by company   \n",
              "526  Not reported by company   \n",
              "527            Subscriptions   \n",
              "528  Not reported by company   \n",
              "\n",
              "                                        business_model  \\\n",
              "524                                                NaN   \n",
              "525                                                NaN   \n",
              "526  Business to Business, Business to Government, ...   \n",
              "527  Business to Business, Business to Consumer, no...   \n",
              "528                                                NaN   \n",
              "\n",
              "                                           description  \\\n",
              "524  Zillow is a home and real estate marketplace d...   \n",
              "525  ZocDoc is a service to help people find and ma...   \n",
              "526  Zonability is a web application that provides ...   \n",
              "527  <p>Zoner is a Digital Zoning Optimization soft...   \n",
              "528  Zurich Risk Room helps corporate customers gai...   \n",
              "\n",
              "                                     description_short  \n",
              "524          Zillow is an online real estate database.  \n",
              "525  Patients use ZocDoc to book appointments with ...  \n",
              "526  Zonability is a web application that provides ...  \n",
              "527  Zoner leverages transparency over fear so a pr...  \n",
              "528  The Zurich Risk Room is a proprietary global r...  "
            ]
          },
          "execution_count": 167,
          "metadata": {},
          "output_type": "execute_result"
        }
      ],
      "source": [
        "#display the last few entries of our data set\n",
        "DataSet.tail()"
      ]
    },
    {
      "cell_type": "code",
      "execution_count": null,
      "id": "170a6b00",
      "metadata": {
        "id": "170a6b00",
        "outputId": "ecdc971b-897f-47a7-e7e7-c303a0544e54"
      },
      "outputs": [
        {
          "name": "stdout",
          "output_type": "stream",
          "text": [
            "Our dataset has  529  rows and  11  columns (features)\n",
            "Our features are\n"
          ]
        }
      ],
      "source": [
        "#print the dimensions and feautures of our dataset\n",
        "print(\"Our dataset has \",DataSet.shape[0],\" rows and \",DataSet.shape[1],\" columns (features)\")\n",
        "print(\"Our features are\")\n",
        "\n",
        "#Let columns be a list that contains all feauture names\n",
        "columns = DataSet.columns"
      ]
    },
    {
      "cell_type": "code",
      "execution_count": null,
      "id": "dcb59efe",
      "metadata": {
        "id": "dcb59efe",
        "outputId": "d5eb9993-8d06-43a1-eba1-0b8582b95562"
      },
      "outputs": [
        {
          "data": {
            "text/plain": [
              "True"
            ]
          },
          "execution_count": 169,
          "metadata": {},
          "output_type": "execute_result"
        }
      ],
      "source": [
        "#Now, let's check for NULL values and try to replace them with a defined value to ease our analysis\n",
        "#check for missing values\n",
        "DataSet.isnull().values.any()"
      ]
    },
    {
      "cell_type": "code",
      "execution_count": null,
      "id": "170f15f2",
      "metadata": {
        "id": "170f15f2",
        "outputId": "ed1f054d-a30e-4902-c8ae-32d9375a1f47"
      },
      "outputs": [
        {
          "name": "stdout",
          "output_type": "stream",
          "text": [
            "These columns have missing values : \n"
          ]
        },
        {
          "data": {
            "text/plain": [
              "['year_founded',\n",
              " 'city',\n",
              " 'full_time_employees',\n",
              " 'company_type',\n",
              " 'company_category',\n",
              " 'revenue_source',\n",
              " 'business_model']"
            ]
          },
          "execution_count": 170,
          "metadata": {},
          "output_type": "execute_result"
        }
      ],
      "source": [
        "#There are NULL values!\n",
        "#Let's check which column has NULL values\n",
        "\n",
        "column_na = []\n",
        "\n",
        "for c in columns:\n",
        "\n",
        "    if DataSet[c].isnull().values.any():\n",
        "        column_na.append(c)\n",
        "print(\"These columns have missing values : \")\n",
        "column_na\n"
      ]
    },
    {
      "cell_type": "code",
      "execution_count": null,
      "id": "30c2965a",
      "metadata": {
        "id": "30c2965a"
      },
      "outputs": [],
      "source": [
        "#In this second part of preparing our dataset, we clean the columns so as to help in our analysis.\n",
        "#We will be focusing on the columns displayed in the previous cell which have missing values and hence need to be 'cleaned'"
      ]
    },
    {
      "cell_type": "code",
      "execution_count": null,
      "id": "0e817996",
      "metadata": {
        "id": "0e817996",
        "outputId": "ad86fb66-8e35-498f-d806-b6a95cefcc2a"
      },
      "outputs": [
        {
          "name": "stdout",
          "output_type": "stream",
          "text": [
            "Number of missing values in 'year_founded' :  1\n",
            "The only missing value found at :  291\n"
          ]
        },
        {
          "name": "stderr",
          "output_type": "stream",
          "text": [
            "<ipython-input-172-08b204178726>:20: SettingWithCopyWarning: \n",
            "A value is trying to be set on a copy of a slice from a DataFrame\n",
            "\n",
            "See the caveats in the documentation: https://pandas.pydata.org/pandas-docs/stable/user_guide/indexing.html#returning-a-view-versus-a-copy\n",
            "  DataSet['year_founded'][j] = 2013\n",
            "<ipython-input-172-08b204178726>:21: SettingWithCopyWarning: \n",
            "A value is trying to be set on a copy of a slice from a DataFrame\n",
            "\n",
            "See the caveats in the documentation: https://pandas.pydata.org/pandas-docs/stable/user_guide/indexing.html#returning-a-view-versus-a-copy\n",
            "  DataSet['city'][j] = 'Daytona Beach'\n",
            "<ipython-input-172-08b204178726>:22: SettingWithCopyWarning: \n",
            "A value is trying to be set on a copy of a slice from a DataFrame\n",
            "\n",
            "See the caveats in the documentation: https://pandas.pydata.org/pandas-docs/stable/user_guide/indexing.html#returning-a-view-versus-a-copy\n",
            "  DataSet['company_type'][j] = 'Private'\n",
            "<ipython-input-172-08b204178726>:23: SettingWithCopyWarning: \n",
            "A value is trying to be set on a copy of a slice from a DataFrame\n",
            "\n",
            "See the caveats in the documentation: https://pandas.pydata.org/pandas-docs/stable/user_guide/indexing.html#returning-a-view-versus-a-copy\n",
            "  DataSet['business_model'][j] = 'Business to Business'\n"
          ]
        }
      ],
      "source": [
        "#Lets begin with populating the missing values of 'year_founded' and 'city' by data available on the internet\n",
        "#'year_founded'\n",
        "\n",
        "print(\"Number of missing values in 'year_founded' : \",DataSet['year_founded'].isnull().sum())\n",
        "\n",
        "j = 0 # to get the index\n",
        "for i in DataSet['year_founded']:\n",
        "    if(np.isnan(i)):\n",
        "        break\n",
        "    else:\n",
        "        j = j+1\n",
        "\n",
        "print(\"The only missing value found at : \", j)\n",
        "DataSet['company_name'][j]\n",
        "\n",
        "#Even the city is unknown\n",
        "#Even the company type\n",
        "#By searching on the internet, we obtain the following information\n",
        "\n",
        "DataSet['year_founded'][j] = 2013\n",
        "DataSet['city'][j] = 'Daytona Beach'\n",
        "DataSet['company_type'][j] = 'Private'\n",
        "DataSet['business_model'][j] = 'Business to Business'"
      ]
    },
    {
      "cell_type": "code",
      "execution_count": null,
      "id": "b0f3b334",
      "metadata": {
        "id": "b0f3b334",
        "outputId": "c8b3e0aa-a4a2-4e6e-ec34-40ada41325de"
      },
      "outputs": [
        {
          "name": "stdout",
          "output_type": "stream",
          "text": [
            "Number of missing values in 'city' :  32\n"
          ]
        }
      ],
      "source": [
        "#lets fill the missing values of 'city'\n",
        "print(\"Number of missing values in 'city' : \",DataSet['city'].isnull().sum())\n",
        "DataSet['city'].fillna(\"City Not Available\", inplace=True)"
      ]
    },
    {
      "cell_type": "code",
      "execution_count": null,
      "id": "89204532",
      "metadata": {
        "id": "89204532",
        "outputId": "2c7ab6fc-c880-4e50-daba-535ea430b709"
      },
      "outputs": [
        {
          "name": "stdout",
          "output_type": "stream",
          "text": [
            "Number of missing values in 'full_time_employees' :  29\n"
          ]
        }
      ],
      "source": [
        "#let's fill the missing values of'full_time_employees'\n",
        "print(\"Number of missing values in 'full_time_employees' : \",DataSet['full_time_employees'].isnull().sum())\n",
        "DataSet['full_time_employees'].fillna(\"Count not available\", inplace=True)"
      ]
    },
    {
      "cell_type": "code",
      "execution_count": null,
      "id": "403eeeec",
      "metadata": {
        "id": "403eeeec"
      },
      "outputs": [],
      "source": [
        "#let's make the 'full_time_employees' column fit for our analysis\n",
        "employees = []\n",
        "\n",
        "#as we can see this of 'object' dtype.\n",
        "#let's replace it with numeric values\n",
        "\n",
        "\n",
        "for i in range(len(DataSet['full_time_employees'])):\n",
        "\n",
        "    s = DataSet['full_time_employees'][i]\n",
        "\n",
        "    if(type(s) == str):          #some of the entries are 'str'\n",
        "        s = s.replace(',','')    #remove ','\n",
        "        if ('-' in s):           #remove '-'\n",
        "            p = s.find('-')\n",
        "            employees.append(int(s[p+1 : ]))\n",
        "\n",
        "        elif ('+' in s):         #remove '+'\n",
        "            employees.append(int(s[0:len(s)-1]))\n",
        "\n",
        "        else :                   #remove missing values\n",
        "            employees.append(-1) #'Count not available'\n",
        "    else :                       #some of the values are numeric, which need not be modified\n",
        "        employees.append(int(s))\n",
        "\n",
        "#let's create a new feature called as 'employees'\n",
        "DataSet['employees'] = employees\n",
        "#let's downcast the data type to integer, as we do not require values to have decimal point\n",
        "DataSet['employees'].astype(int)\n",
        "#let's discard 'full_time_employees'\n",
        "DataSet = DataSet.drop(['full_time_employees'], axis=1)"
      ]
    },
    {
      "cell_type": "code",
      "execution_count": null,
      "id": "54595ed0",
      "metadata": {
        "id": "54595ed0"
      },
      "outputs": [],
      "source": [
        "#let's fill the missing values in 'employees' by the average value\n",
        "#missing values was replaced by '-1'\n",
        "DataSet['employees'] = DataSet['employees'].replace([-1],DataSet['employees'].mean())"
      ]
    },
    {
      "cell_type": "code",
      "execution_count": null,
      "id": "fcbaf810",
      "metadata": {
        "id": "fcbaf810",
        "outputId": "b865be07-c264-48aa-f4a0-56702557f864"
      },
      "outputs": [
        {
          "name": "stdout",
          "output_type": "stream",
          "text": [
            "Number of missing values in 'company_type' :  15\n"
          ]
        }
      ],
      "source": [
        "#Let's fill the missing values of 'company_type'\n",
        "print(\"Number of missing values in 'company_type' : \",DataSet['company_type'].isnull().sum())\n",
        "DataSet['company_type'].fillna(\"Company type not revealed\", inplace=True)"
      ]
    },
    {
      "cell_type": "code",
      "execution_count": null,
      "id": "2cd12958",
      "metadata": {
        "id": "2cd12958",
        "outputId": "5bd86860-42bb-42bc-fd73-85a2c8c5f962"
      },
      "outputs": [
        {
          "name": "stdout",
          "output_type": "stream",
          "text": [
            "Number of missing values in 'company_category' :  3\n"
          ]
        }
      ],
      "source": [
        "#Let's fill the missing values of 'company_type'\n",
        "print(\"Number of missing values in 'company_category' : \",DataSet['company_category'].isnull().sum())\n",
        "DataSet['company_category'].fillna(\"Company category not available\", inplace=True)"
      ]
    },
    {
      "cell_type": "code",
      "execution_count": null,
      "id": "b9ada6af",
      "metadata": {
        "id": "b9ada6af",
        "outputId": "9a42b9f0-1d6a-4902-e30f-920ba076f831"
      },
      "outputs": [
        {
          "name": "stdout",
          "output_type": "stream",
          "text": [
            "Number of missing values in 'revenue_source' :  10\n"
          ]
        }
      ],
      "source": [
        "#Let's fill the missing values of 'revenue_source'\n",
        "print(\"Number of missing values in 'revenue_source' : \",DataSet['revenue_source'].isnull().sum())\n",
        "DataSet['revenue_source'].fillna(\"not reported by company\", inplace=True)\n",
        "DataSet['revenue_source'] = DataSet[\"revenue_source\"].str.lower()"
      ]
    },
    {
      "cell_type": "code",
      "execution_count": null,
      "id": "bc928fbc",
      "metadata": {
        "id": "bc928fbc",
        "outputId": "5113310d-7490-4051-bd51-93e6024ad81f"
      },
      "outputs": [
        {
          "name": "stdout",
          "output_type": "stream",
          "text": [
            "Number of missing values in 'business_model' :  75\n"
          ]
        }
      ],
      "source": [
        "#Let's fill the missing values of 'business_model'\n",
        "print(\"Number of missing values in 'business_model' : \",DataSet['business_model'].isnull().sum())\n",
        "DataSet['business_model'].fillna(\"Not reported by company\", inplace=True)\n",
        "DataSet[\"business_model\"] = DataSet[\"business_model\"].str.lower()"
      ]
    },
    {
      "cell_type": "code",
      "execution_count": null,
      "id": "8c94c418",
      "metadata": {
        "id": "8c94c418",
        "outputId": "100a2dbc-cfe0-4931-b7a1-396b6992944b"
      },
      "outputs": [
        {
          "name": "stdout",
          "output_type": "stream",
          "text": [
            "<class 'pandas.core.frame.DataFrame'>\n",
            "RangeIndex: 529 entries, 0 to 528\n",
            "Data columns (total 11 columns):\n",
            " #   Column             Non-Null Count  Dtype  \n",
            "---  ------             --------------  -----  \n",
            " 0   company_name       529 non-null    object \n",
            " 1   year_founded       529 non-null    float64\n",
            " 2   city               529 non-null    object \n",
            " 3   state              529 non-null    object \n",
            " 4   company_type       529 non-null    object \n",
            " 5   company_category   529 non-null    object \n",
            " 6   revenue_source     529 non-null    object \n",
            " 7   business_model     529 non-null    object \n",
            " 8   description        529 non-null    object \n",
            " 9   description_short  529 non-null    object \n",
            " 10  employees          529 non-null    float64\n",
            "dtypes: float64(2), object(9)\n",
            "memory usage: 45.6+ KB\n"
          ]
        }
      ],
      "source": [
        "#Let's start exploring the Dataset to get insights\n",
        "'''\n",
        "Our Dataset\n",
        "'''\n",
        "DataSet.info()"
      ]
    },
    {
      "cell_type": "code",
      "execution_count": null,
      "id": "20b1ac5c",
      "metadata": {
        "id": "20b1ac5c",
        "outputId": "424db048-519e-49b7-fd4e-2ad8c15a3e56"
      },
      "outputs": [
        {
          "name": "stdout",
          "output_type": "stream",
          "text": [
            "Count of number of companies for each letter\n",
            "Counter({'C': 59, 'S': 45, 'P': 37, 'A': 36, 'E': 26, 'T': 26, 'M': 25, 'G': 24, 'B': 23, 'R': 22, 'I': 21, 'F': 20, 'L': 19, 'O': 19, 'W': 17, 'N': 16, 'H': 14, 'D': 13, 'K': 10, 'U': 9, 'V': 8, 'i': 6, 'Z': 6, 'J': 5, 'Q': 4, 'X': 3, 'Y': 3, 'e': 2, '3': 1, '4': 1, '5': 1, 'g': 1, 'k': 1, '(': 1, 'm': 1, 'n': 1, 'o': 1, 'r': 1, 'x': 1})\n"
          ]
        }
      ],
      "source": [
        "#explore the 'company_name' feature\n",
        "\n",
        "print(\"Count of number of companies for each letter\")\n",
        "print(Counter(s[0] for s in DataSet['company_name']))\n",
        "\n",
        "letter_count = Counter(s[0] for s in DataSet['company_name'])"
      ]
    },
    {
      "cell_type": "code",
      "execution_count": null,
      "id": "d0c7384d",
      "metadata": {
        "id": "d0c7384d",
        "outputId": "0d07337b-5c6a-4f02-aa92-f5e77181f329"
      },
      "outputs": [
        {
          "data": {
            "image/png": "[encoded data removed]",
            "text/plain": [
              "<Figure size 576x720 with 1 Axes>"
            ]
          },
          "metadata": {
            "needs_background": "light"
          },
          "output_type": "display_data"
        }
      ],
      "source": [
        "#let's visualize it\n",
        "\n",
        "letter = list(letter_count.keys()) #extracts the keys\n",
        "count = list(letter_count.values()) #extracts the values\n",
        "\n",
        "letters_dict = {\"Letters\":letter,\"Count\":count}\n",
        "letters_df = pd.DataFrame(letters_dict)\n",
        "\n",
        "letters_df = letters_df.sort_values(by='Count')\n",
        "ind = np.arange(letters_df.shape[0])\n",
        "\n",
        "width = 1.7\n",
        "fig, ax = plt.subplots(figsize=(8,10))\n",
        "rects = ax.barh(ind, letters_df.Count.values, color='#4A148C')\n",
        "\n",
        "ax.set_yticks(ind)\n",
        "ax.set_yticklabels(letters_df.Letters.values, rotation='horizontal')\n",
        "ax.set_xlabel(\"Count of each letter\")\n",
        "ax.set_title(\"Companies Count by Starting Letter\")\n",
        "plt.show()"
      ]
    },
    {
      "cell_type": "code",
      "execution_count": null,
      "id": "dcec3a2f",
      "metadata": {
        "id": "dcec3a2f",
        "outputId": "cd61bfd0-c1dd-4d8e-c034-8a6e804ed86a"
      },
      "outputs": [
        {
          "name": "stdout",
          "output_type": "stream",
          "text": [
            "Which is the most popular letter for companies' name to begin with ?\n",
            "C\n"
          ]
        }
      ],
      "source": [
        "#From above plot\n",
        "\n",
        "print(\"Which is the most popular letter for companies' name to begin with ?\")\n",
        "keymax = max(zip(letter_count.values(),letter_count.keys()))[1]\n",
        "print(keymax)"
      ]
    },
    {
      "cell_type": "code",
      "execution_count": null,
      "id": "77f49fdd",
      "metadata": {
        "id": "77f49fdd",
        "outputId": "843c8961-e44c-454e-8e49-f4aab837a095"
      },
      "outputs": [
        {
          "name": "stdout",
          "output_type": "stream",
          "text": [
            "What is the trend in length of companies' name over time ?\n"
          ]
        }
      ],
      "source": [
        "print(\"What is the trend in length of companies' name over time ?\")"
      ]
    },
    {
      "cell_type": "code",
      "execution_count": null,
      "id": "69d6c57e",
      "metadata": {
        "id": "69d6c57e",
        "outputId": "413d4381-8b6d-4211-e500-424b1e84b613"
      },
      "outputs": [
        {
          "name": "stdout",
          "output_type": "stream",
          "text": [
            "-0.14428066728140604\n",
            "As we can see a negative correlation, this indicates that with progress in age, companies' names are getting shorter\n"
          ]
        }
      ],
      "source": [
        "#Let's see if there is any relation between length of the name of company and year founded.\n",
        "from scipy.stats.stats import pearsonr\n",
        "\n",
        "length_c = []\n",
        "\n",
        "for name in DataSet['company_name']:\n",
        "    length_c.append(len(name))\n",
        "\n",
        "cor,p_value = pearsonr(length_c,DataSet['year_founded'])\n",
        "print(cor)\n",
        "\n",
        "print(\"As we can see a negative correlation, this indicates that with progress in age, companies' names are getting shorter\")"
      ]
    },
    {
      "cell_type": "code",
      "execution_count": null,
      "id": "b9d9edd0",
      "metadata": {
        "id": "b9d9edd0",
        "outputId": "a4b9bb0c-e40e-4a36-81fe-21b99f5810cf"
      },
      "outputs": [
        {
          "name": "stdout",
          "output_type": "stream",
          "text": [
            "Which 5 cities has the most number of companies ?\n"
          ]
        },
        {
          "data": {
            "text/plain": [
              "['New York', 'San Francisco', 'City Not Available', 'Boston', 'Chicago']"
            ]
          },
          "execution_count": 187,
          "metadata": {},
          "output_type": "execute_result"
        }
      ],
      "source": [
        "print(\"Which 5 cities has the most number of companies ?\")\n",
        "\n",
        "DataSet['city'].value_counts()[:5].index.tolist()\n"
      ]
    },
    {
      "cell_type": "code",
      "execution_count": null,
      "id": "430a534d",
      "metadata": {
        "id": "430a534d",
        "outputId": "c3678757-bfe6-4afa-f79a-df5259586244"
      },
      "outputs": [
        {
          "name": "stdout",
          "output_type": "stream",
          "text": [
            "Which 5 states has the most number of companies ?\n"
          ]
        },
        {
          "data": {
            "text/plain": [
              "['CA', 'NY', 'MA', 'IL', 'WA']"
            ]
          },
          "execution_count": 188,
          "metadata": {},
          "output_type": "execute_result"
        }
      ],
      "source": [
        "print(\"Which 5 states has the most number of companies ?\")\n",
        "\n",
        "DataSet['state'].value_counts()[:5].index.tolist()"
      ]
    },
    {
      "cell_type": "code",
      "execution_count": null,
      "id": "3ed45eea",
      "metadata": {
        "id": "3ed45eea",
        "outputId": "9f619f8e-6fa4-4f7a-cd74-5f095b6b5a5d"
      },
      "outputs": [
        {
          "name": "stdout",
          "output_type": "stream",
          "text": [
            "California (STATE) and New York (CITY) have the most number of companies.\n"
          ]
        }
      ],
      "source": [
        "print(\"California (STATE) and New York (CITY) have the most number of companies.\")"
      ]
    },
    {
      "cell_type": "code",
      "execution_count": null,
      "id": "0d8a45ce",
      "metadata": {
        "id": "0d8a45ce",
        "outputId": "61dd5c35-88de-4a1a-a8a2-9fe87f6acb49"
      },
      "outputs": [
        {
          "name": "stdout",
          "output_type": "stream",
          "text": [
            "Plot the count of companies in each state\n",
            "Its clear from the plot below that very few states are represented and many companies are from New York and California.\n"
          ]
        },
        {
          "data": {
            "image/png": "[encoded data removed]",
            "text/plain": [
              "<Figure size 432x288 with 1 Axes>"
            ]
          },
          "metadata": {
            "needs_background": "light"
          },
          "output_type": "display_data"
        }
      ],
      "source": [
        "print(\"Plot the count of companies in each state\")\n",
        "state_count = DataSet['state'].value_counts().plot.bar()\n",
        "print('Its clear from the plot below that very few states are represented and many companies are from New York and California.')"
      ]
    },
    {
      "cell_type": "code",
      "execution_count": null,
      "id": "20cd6434",
      "metadata": {
        "id": "20cd6434",
        "outputId": "be8e41d4-5aef-4e63-c76d-5f4e1b3db853"
      },
      "outputs": [
        {
          "name": "stdout",
          "output_type": "stream",
          "text": [
            "Which year had the most companies established and where were they founded ?\n",
            "The year which had the most number of companies established was  2011\n",
            "In the year 2011 , companies were established in : \n"
          ]
        },
        {
          "data": {
            "text/plain": [
              "CA    17\n",
              "NY    15\n",
              "DC     4\n",
              "IL     4\n",
              "MA     3\n",
              "CO     2\n",
              "WA     1\n",
              "MI     1\n",
              "WI     1\n",
              "FL     1\n",
              "MD     1\n",
              "TX     1\n",
              "Name: state, dtype: int64"
            ]
          },
          "execution_count": 191,
          "metadata": {},
          "output_type": "execute_result"
        },
        {
          "data": {
            "image/png": "[encoded data removed]",
            "text/plain": [
              "<Figure size 432x288 with 1 Axes>"
            ]
          },
          "metadata": {
            "needs_background": "light"
          },
          "output_type": "display_data"
        }
      ],
      "source": [
        "print(\"Which year had the most companies established and where were they founded ?\")\n",
        "year = int(DataSet['year_founded'].mode()[0])\n",
        "print(\"The year which had the most number of companies established was \",int(year))\n",
        "DataSet['year_founded'].value_counts().plot(title = 'Number of Companies Vs Year Founded',ylabel = 'Number of Companies',xlabel='Year Founded')\n",
        "\n",
        "print(\"In the year\",year,\", companies were established in : \")\n",
        "DataSet[DataSet['year_founded'] == year]['state'].value_counts()"
      ]
    },
    {
      "cell_type": "code",
      "execution_count": null,
      "id": "77c360a4",
      "metadata": {
        "id": "77c360a4",
        "outputId": "96f63d50-d9fb-4ff9-8751-e5943063c796"
      },
      "outputs": [
        {
          "name": "stdout",
          "output_type": "stream",
          "text": [
            "Obtain the description of 'employees' feature\n"
          ]
        },
        {
          "data": {
            "text/plain": [
              "count      529.000000\n",
              "mean      1855.077158\n",
              "std       3441.234805\n",
              "min         10.000000\n",
              "25%         10.000000\n",
              "50%        200.000000\n",
              "75%       1000.000000\n",
              "max      10001.000000\n",
              "Name: employees, dtype: float64"
            ]
          },
          "execution_count": 192,
          "metadata": {},
          "output_type": "execute_result"
        }
      ],
      "source": [
        "print(\"Obtain the description of 'employees' feature\")\n",
        "DataSet['employees'].describe()"
      ]
    },
    {
      "cell_type": "code",
      "execution_count": null,
      "id": "d48d940b",
      "metadata": {
        "id": "d48d940b",
        "outputId": "64053627-a949-47e8-d807-fb21d79761ee"
      },
      "outputs": [
        {
          "name": "stdout",
          "output_type": "stream",
          "text": [
            "When and where was the oldest company in our dataset founded ?\n"
          ]
        },
        {
          "data": {
            "text/html": [
              "<div>\n",
              "<style scoped>\n",
              "    .dataframe tbody tr th:only-of-type {\n",
              "        vertical-align: middle;\n",
              "    }\n",
              "\n",
              "    .dataframe tbody tr th {\n",
              "        vertical-align: top;\n",
              "    }\n",
              "\n",
              "    .dataframe thead th {\n",
              "        text-align: right;\n",
              "    }\n",
              "</style>\n",
              "<table border=\"1\" class=\"dataframe\">\n",
              "  <thead>\n",
              "    <tr style=\"text-align: right;\">\n",
              "      <th></th>\n",
              "      <th>company_name</th>\n",
              "      <th>year_founded</th>\n",
              "      <th>city</th>\n",
              "      <th>state</th>\n",
              "      <th>company_type</th>\n",
              "      <th>company_category</th>\n",
              "      <th>revenue_source</th>\n",
              "      <th>business_model</th>\n",
              "      <th>description</th>\n",
              "      <th>description_short</th>\n",
              "      <th>employees</th>\n",
              "    </tr>\n",
              "  </thead>\n",
              "  <tbody>\n",
              "    <tr>\n",
              "      <th>249</th>\n",
              "      <td>J.P. Morgan Chase</td>\n",
              "      <td>1799.0</td>\n",
              "      <td>New York</td>\n",
              "      <td>NY</td>\n",
              "      <td>Public</td>\n",
              "      <td>Finance &amp; Investment</td>\n",
              "      <td>not reported by company</td>\n",
              "      <td>business to business, business to consumer, bu...</td>\n",
              "      <td>J.P. Morgan Chase is a global financial servic...</td>\n",
              "      <td>J.P. Morgan Chase offers investment banking, f...</td>\n",
              "      <td>10001.0</td>\n",
              "    </tr>\n",
              "  </tbody>\n",
              "</table>\n",
              "</div>"
            ],
            "text/plain": [
              "          company_name  year_founded      city state company_type  \\\n",
              "249  J.P. Morgan Chase        1799.0  New York    NY       Public   \n",
              "\n",
              "         company_category           revenue_source  \\\n",
              "249  Finance & Investment  not reported by company   \n",
              "\n",
              "                                        business_model  \\\n",
              "249  business to business, business to consumer, bu...   \n",
              "\n",
              "                                           description  \\\n",
              "249  J.P. Morgan Chase is a global financial servic...   \n",
              "\n",
              "                                     description_short  employees  \n",
              "249  J.P. Morgan Chase offers investment banking, f...    10001.0  "
            ]
          },
          "execution_count": 193,
          "metadata": {},
          "output_type": "execute_result"
        }
      ],
      "source": [
        "print(\"When and where was the oldest company in our dataset founded ?\")\n",
        "DataSet[DataSet['year_founded'] == DataSet['year_founded'].min()]"
      ]
    },
    {
      "cell_type": "code",
      "execution_count": null,
      "id": "c052f649",
      "metadata": {
        "id": "c052f649",
        "outputId": "d7088bc0-377c-4519-df39-3b09de9f8c74"
      },
      "outputs": [
        {
          "name": "stdout",
          "output_type": "stream",
          "text": [
            "From this we can infer that, 'Finance & Investmnet' was the earliest category of company\n"
          ]
        }
      ],
      "source": [
        "print(\"From this we can infer that, 'Finance & Investmnet' was the earliest category of company\")"
      ]
    },
    {
      "cell_type": "code",
      "execution_count": null,
      "id": "89a35da9",
      "metadata": {
        "id": "89a35da9",
        "outputId": "26e67f2a-2d2c-4a31-cdcb-a9052c3e0ae0"
      },
      "outputs": [
        {
          "name": "stdout",
          "output_type": "stream",
          "text": [
            "When and where was the latest company in our dataset founded ?\n"
          ]
        },
        {
          "data": {
            "text/html": [
              "<div>\n",
              "<style scoped>\n",
              "    .dataframe tbody tr th:only-of-type {\n",
              "        vertical-align: middle;\n",
              "    }\n",
              "\n",
              "    .dataframe tbody tr th {\n",
              "        vertical-align: top;\n",
              "    }\n",
              "\n",
              "    .dataframe thead th {\n",
              "        text-align: right;\n",
              "    }\n",
              "</style>\n",
              "<table border=\"1\" class=\"dataframe\">\n",
              "  <thead>\n",
              "    <tr style=\"text-align: right;\">\n",
              "      <th></th>\n",
              "      <th>company_name</th>\n",
              "      <th>year_founded</th>\n",
              "      <th>city</th>\n",
              "      <th>state</th>\n",
              "      <th>company_type</th>\n",
              "      <th>company_category</th>\n",
              "      <th>revenue_source</th>\n",
              "      <th>business_model</th>\n",
              "      <th>description</th>\n",
              "      <th>description_short</th>\n",
              "      <th>employees</th>\n",
              "    </tr>\n",
              "  </thead>\n",
              "  <tbody>\n",
              "    <tr>\n",
              "      <th>332</th>\n",
              "      <td>Open Data Nation</td>\n",
              "      <td>2015.0</td>\n",
              "      <td>Washington</td>\n",
              "      <td>DC</td>\n",
              "      <td>Private</td>\n",
              "      <td>Research &amp; Consulting</td>\n",
              "      <td>consulting, data analysis for clients, governm...</td>\n",
              "      <td>business to business</td>\n",
              "      <td>Open Data Nation (opendatanation.com) creates ...</td>\n",
              "      <td>Open Data Nation creates plug-and-play, produc...</td>\n",
              "      <td>10.0</td>\n",
              "    </tr>\n",
              "  </tbody>\n",
              "</table>\n",
              "</div>"
            ],
            "text/plain": [
              "         company_name  year_founded        city state company_type  \\\n",
              "332  Open Data Nation        2015.0  Washington    DC      Private   \n",
              "\n",
              "          company_category                                     revenue_source  \\\n",
              "332  Research & Consulting  consulting, data analysis for clients, governm...   \n",
              "\n",
              "           business_model                                        description  \\\n",
              "332  business to business  Open Data Nation (opendatanation.com) creates ...   \n",
              "\n",
              "                                     description_short  employees  \n",
              "332  Open Data Nation creates plug-and-play, produc...       10.0  "
            ]
          },
          "execution_count": 195,
          "metadata": {},
          "output_type": "execute_result"
        }
      ],
      "source": [
        "print(\"When and where was the latest company in our dataset founded ?\")\n",
        "DataSet[DataSet['year_founded'] == DataSet['year_founded'].max()]"
      ]
    },
    {
      "cell_type": "code",
      "execution_count": null,
      "id": "55d60b01",
      "metadata": {
        "id": "55d60b01",
        "outputId": "4b531007-9a32-4263-f747-f848644b94eb"
      },
      "outputs": [
        {
          "name": "stdout",
          "output_type": "stream",
          "text": [
            "From this we can infer that 'Research & Consulting' is the latest category of company\n"
          ]
        }
      ],
      "source": [
        "print(\"From this we can infer that 'Research & Consulting' is the latest category of company\")"
      ]
    },
    {
      "cell_type": "code",
      "execution_count": null,
      "id": "7a71a1c5",
      "metadata": {
        "id": "7a71a1c5",
        "outputId": "aaa63e15-0a7a-418e-d595-eb838b8554c3"
      },
      "outputs": [
        {
          "name": "stdout",
          "output_type": "stream",
          "text": [
            "Which companies have the most number of Full-Time Employees ?\n"
          ]
        },
        {
          "data": {
            "text/plain": [
              "['Accenture',\n",
              " 'Adobe Digital Government',\n",
              " 'Allianz',\n",
              " 'AllState Insurance Group',\n",
              " 'Bing',\n",
              " 'BlackRock',\n",
              " 'Bloomberg',\n",
              " 'Booz Allen Hamilton',\n",
              " 'Canon',\n",
              " 'Cerner',\n",
              " 'CGI',\n",
              " 'Charles Schwab Corp.',\n",
              " 'Chubb',\n",
              " 'Citigroup',\n",
              " 'Deloitte',\n",
              " 'EMC',\n",
              " 'Ernst & Young LLP',\n",
              " 'Experian',\n",
              " 'Farmers',\n",
              " 'Fidelity Investments',\n",
              " 'Fujitsu',\n",
              " 'Harris Corporation',\n",
              " 'IBM',\n",
              " 'Impact Forecasting (Aon)',\n",
              " 'J.P. Morgan Chase',\n",
              " 'Kaiser Permanante',\n",
              " 'KPMG',\n",
              " 'LexisNexis',\n",
              " 'Liberty Mutual Insurance Cos.',\n",
              " 'McGraw Hill Financial',\n",
              " 'McKinsey',\n",
              " 'Merrill Corp.',\n",
              " 'Merrill Lynch',\n",
              " 'MetLife',\n",
              " 'Microsoft Windows Azure Marketplace',\n",
              " 'Morgan Stanley',\n",
              " 'Nationwide Mutual Insurance Company',\n",
              " 'Nielsen',\n",
              " 'OnStar',\n",
              " 'OptumInsight',\n",
              " 'Parsons Brinckerhoff',\n",
              " 'PricewaterhouseCoopers (PWC)',\n",
              " 'Progressive Insurance Group',\n",
              " 'R R Donnelley',\n",
              " 'Reed Elsevier',\n",
              " 'SAP',\n",
              " 'SAS',\n",
              " \"Standard and Poor's\",\n",
              " 'State Farm Insurance',\n",
              " 'The Vanguard Group',\n",
              " 'Thomson Reuters',\n",
              " 'USAA Group',\n",
              " 'Weight Watchers',\n",
              " 'Wolters Kluwer',\n",
              " 'Yahoo',\n",
              " 'Zurich Insurance (Risk Room)']"
            ]
          },
          "execution_count": 197,
          "metadata": {},
          "output_type": "execute_result"
        }
      ],
      "source": [
        "print(\"Which companies have the most number of Full-Time Employees ?\")\n",
        "DataSet[DataSet['employees'] == 10001]['company_name'].tolist() #100001 from the description"
      ]
    },
    {
      "cell_type": "code",
      "execution_count": null,
      "id": "0b3dd90f",
      "metadata": {
        "id": "0b3dd90f",
        "outputId": "b75253bf-7ace-4e48-e9fc-ae823423f1dd"
      },
      "outputs": [
        {
          "name": "stdout",
          "output_type": "stream",
          "text": [
            "How many companies have above average number of workers ?\n"
          ]
        },
        {
          "data": {
            "text/plain": [
              "102"
            ]
          },
          "execution_count": 198,
          "metadata": {},
          "output_type": "execute_result"
        }
      ],
      "source": [
        "print(\"How many companies have above average number of workers ?\")\n",
        "len(DataSet[DataSet['employees'] > DataSet['employees'].mean()])"
      ]
    },
    {
      "cell_type": "code",
      "execution_count": null,
      "id": "ccbbd885",
      "metadata": {
        "id": "ccbbd885",
        "outputId": "1a919458-0724-4a22-9a0f-4cf70ddb87b3"
      },
      "outputs": [
        {
          "name": "stdout",
          "output_type": "stream",
          "text": [
            "Which states have the most number of Full Time Employees ?\n",
            "STATES\n"
          ]
        },
        {
          "data": {
            "text/plain": [
              "['IL',\n",
              " 'CA',\n",
              " 'NY',\n",
              " 'IL',\n",
              " 'WA',\n",
              " 'GA',\n",
              " 'NY',\n",
              " 'VA',\n",
              " 'NY',\n",
              " 'MO',\n",
              " 'NY',\n",
              " 'CA',\n",
              " 'NJ',\n",
              " 'NY',\n",
              " 'NY',\n",
              " 'MA',\n",
              " 'NY',\n",
              " 'CA',\n",
              " 'CA',\n",
              " 'MA',\n",
              " 'CA',\n",
              " 'FL',\n",
              " 'NY',\n",
              " 'IL',\n",
              " 'NY',\n",
              " 'CA',\n",
              " 'NY',\n",
              " 'NY',\n",
              " 'MA',\n",
              " 'NY',\n",
              " 'NY',\n",
              " 'MN',\n",
              " 'NY',\n",
              " 'NY',\n",
              " 'WA',\n",
              " 'NY',\n",
              " 'OH',\n",
              " 'NY',\n",
              " 'MI',\n",
              " 'MN',\n",
              " 'NY',\n",
              " 'NY',\n",
              " 'OH',\n",
              " 'IL',\n",
              " 'NY',\n",
              " 'PA',\n",
              " 'NC',\n",
              " 'NY',\n",
              " 'IL',\n",
              " 'PA',\n",
              " 'NY',\n",
              " 'TX',\n",
              " 'NY',\n",
              " 'MN',\n",
              " 'CA',\n",
              " 'IL']"
            ]
          },
          "execution_count": 199,
          "metadata": {},
          "output_type": "execute_result"
        }
      ],
      "source": [
        "print(\"Which states have the most number of Full Time Employees ?\")\n",
        "print(\"STATES\")\n",
        "DataSet[DataSet['employees'] == 10001]['state'].tolist()"
      ]
    },
    {
      "cell_type": "code",
      "execution_count": null,
      "id": "9f98081e",
      "metadata": {
        "id": "9f98081e",
        "outputId": "0ddee6fa-2c1e-494d-ca20-4c889686cb04"
      },
      "outputs": [
        {
          "name": "stdout",
          "output_type": "stream",
          "text": [
            "What are the different kinds of 'company_type'?\n",
            "[15, 15, 2, 1, 397, 92, 1, 1, 4, 1] company_type\n",
            "Company type not revealed          15\n",
            "Nonprofit                          15\n",
            "Partnership                         2\n",
            "Permitting Assistance               1\n",
            "Private                           397\n",
            "Public                             92\n",
            "Public (Federal-USGS)               1\n",
            "nonprofit + commercial spinoff      1\n",
            "partnership                         4\n",
            "sole proprietorship                 1\n",
            "Name: company_type, dtype: int64\n"
          ]
        }
      ],
      "source": [
        "print(\"What are the different kinds of 'company_type'?\")\n",
        "per=DataSet.groupby([\"company_type\"])[\"company_type\"].count()\n",
        "pel=list(per)\n",
        "print(pel,per)"
      ]
    },
    {
      "cell_type": "code",
      "execution_count": null,
      "id": "e1af1ecb",
      "metadata": {
        "id": "e1af1ecb",
        "outputId": "9fa57275-889a-4b30-a6d5-306448cd05a8"
      },
      "outputs": [
        {
          "name": "stdout",
          "output_type": "stream",
          "text": [
            "From above, it is clear that 'Private' companies are more in number\n"
          ]
        }
      ],
      "source": [
        "print(\"From above, it is clear that 'Private' companies are more in number\")"
      ]
    },
    {
      "cell_type": "code",
      "execution_count": null,
      "id": "c1a5800c",
      "metadata": {
        "id": "c1a5800c",
        "outputId": "8c3a2e43-1d12-490e-9f4e-4b24068a9764"
      },
      "outputs": [
        {
          "data": {
            "text/plain": [
              "array([<AxesSubplot:ylabel='company_type'>], dtype=object)"
            ]
          },
          "execution_count": 202,
          "metadata": {},
          "output_type": "execute_result"
        },
        {
          "data": {
            "image/png": "[encoded data removed]",
            "text/plain": [
              "<Figure size 576x576 with 1 Axes>"
            ]
          },
          "metadata": {},
          "output_type": "display_data"
        }
      ],
      "source": [
        "#pie chart describing 'company_type'\n",
        "#alphabetical order follows the above result.\n",
        "per = pd.DataFrame(pel, index=[\"a\", \"b\", \"c\", \"d\",\"e\",\"f\",\"g\",\"h\",\"i\",\"j\"], columns = [\"company_type\"])\n",
        "per.plot.pie(subplots=True ,figsize=(8,8))\n"
      ]
    },
    {
      "cell_type": "code",
      "execution_count": null,
      "id": "09e2387c",
      "metadata": {
        "id": "09e2387c",
        "outputId": "c2e51224-569c-47da-aca4-a1ad0637b5fb"
      },
      "outputs": [
        {
          "data": {
            "text/plain": [
              "<AxesSubplot:xlabel='company_type'>"
            ]
          },
          "execution_count": 203,
          "metadata": {},
          "output_type": "execute_result"
        },
        {
          "data": {
            "image/png": "[encoded data removed]",
            "text/plain": [
              "<Figure size 432x288 with 1 Axes>"
            ]
          },
          "metadata": {
            "needs_background": "light"
          },
          "output_type": "display_data"
        }
      ],
      "source": [
        "#Lets find out how is the employees distribution among different company types\n",
        "a=DataSet.groupby(['company_type'])['employees'].sum()\n",
        "a.plot(kind=\"bar\")"
      ]
    },
    {
      "cell_type": "code",
      "execution_count": null,
      "id": "1ac65aae",
      "metadata": {
        "id": "1ac65aae",
        "outputId": "08014ab5-7c53-42e6-e155-181ee40f7d17"
      },
      "outputs": [
        {
          "name": "stdout",
          "output_type": "stream",
          "text": [
            "From the above plot it is clear that 'Public' companies have the most number of employees\n"
          ]
        }
      ],
      "source": [
        "print(\"From the above plot it is clear that 'Public' companies have the most number of employees\")"
      ]
    },
    {
      "cell_type": "code",
      "execution_count": null,
      "id": "d6ecaf21",
      "metadata": {
        "id": "d6ecaf21",
        "outputId": "05d82a91-3d42-4158-baee-5e013d48c024"
      },
      "outputs": [
        {
          "name": "stdout",
          "output_type": "stream",
          "text": [
            "It is surprising that even though there are lot of a 'Private' companies, most of them are employed in 'Public' companies.\n"
          ]
        }
      ],
      "source": [
        "print(\"It is surprising that even though there are lot of a 'Private' companies, most of them are employed in 'Public' companies.\")"
      ]
    },
    {
      "cell_type": "code",
      "execution_count": null,
      "id": "0e96551e",
      "metadata": {
        "id": "0e96551e",
        "outputId": "9dd1c6fe-14bc-42ff-941b-84d8f4fa72d9"
      },
      "outputs": [
        {
          "name": "stdout",
          "output_type": "stream",
          "text": [
            "What 'company_type' has the most number of employees in a city ?\n"
          ]
        },
        {
          "data": {
            "text/html": [
              "<div>\n",
              "<style scoped>\n",
              "    .dataframe tbody tr th:only-of-type {\n",
              "        vertical-align: middle;\n",
              "    }\n",
              "\n",
              "    .dataframe tbody tr th {\n",
              "        vertical-align: top;\n",
              "    }\n",
              "\n",
              "    .dataframe thead th {\n",
              "        text-align: right;\n",
              "    }\n",
              "</style>\n",
              "<table border=\"1\" class=\"dataframe\">\n",
              "  <thead>\n",
              "    <tr style=\"text-align: right;\">\n",
              "      <th></th>\n",
              "      <th></th>\n",
              "      <th>employees</th>\n",
              "    </tr>\n",
              "    <tr>\n",
              "      <th>city</th>\n",
              "      <th>company_type</th>\n",
              "      <th></th>\n",
              "    </tr>\n",
              "  </thead>\n",
              "  <tbody>\n",
              "    <tr>\n",
              "      <th>Philadelphia</th>\n",
              "      <th>Private</th>\n",
              "      <td>200.0</td>\n",
              "    </tr>\n",
              "    <tr>\n",
              "      <th>Addison</th>\n",
              "      <th>Private</th>\n",
              "      <td>200.0</td>\n",
              "    </tr>\n",
              "    <tr>\n",
              "      <th>Ames</th>\n",
              "      <th>Private</th>\n",
              "      <td>1000.0</td>\n",
              "    </tr>\n",
              "    <tr>\n",
              "      <th>Amherst</th>\n",
              "      <th>Private</th>\n",
              "      <td>200.0</td>\n",
              "    </tr>\n",
              "    <tr>\n",
              "      <th rowspan=\"2\" valign=\"top\">Ann Arbor</th>\n",
              "      <th>Private</th>\n",
              "      <td>50.0</td>\n",
              "    </tr>\n",
              "    <tr>\n",
              "      <th>Public</th>\n",
              "      <td>50.0</td>\n",
              "    </tr>\n",
              "    <tr>\n",
              "      <th>Arlington</th>\n",
              "      <th>Private</th>\n",
              "      <td>60.0</td>\n",
              "    </tr>\n",
              "    <tr>\n",
              "      <th>Armonk</th>\n",
              "      <th>Public</th>\n",
              "      <td>10001.0</td>\n",
              "    </tr>\n",
              "    <tr>\n",
              "      <th rowspan=\"2\" valign=\"top\">Atlanta</th>\n",
              "      <th>Private</th>\n",
              "      <td>220.0</td>\n",
              "    </tr>\n",
              "    <tr>\n",
              "      <th>Public</th>\n",
              "      <td>25001.0</td>\n",
              "    </tr>\n",
              "  </tbody>\n",
              "</table>\n",
              "</div>"
            ],
            "text/plain": [
              "                            employees\n",
              "city          company_type           \n",
              " Philadelphia Private           200.0\n",
              "Addison       Private           200.0\n",
              "Ames          Private          1000.0\n",
              "Amherst       Private           200.0\n",
              "Ann Arbor     Private            50.0\n",
              "              Public             50.0\n",
              "Arlington     Private            60.0\n",
              "Armonk        Public          10001.0\n",
              "Atlanta       Private           220.0\n",
              "              Public          25001.0"
            ]
          },
          "execution_count": 206,
          "metadata": {},
          "output_type": "execute_result"
        }
      ],
      "source": [
        "print(\"What 'company_type' has the most number of employees in a city ?\")\n",
        "pil = DataSet.groupby([\"city\",\"company_type\"])[\"employees\"].sum()\n",
        "pil = pd.DataFrame(pil)\n",
        "pil.head(10)"
      ]
    },
    {
      "cell_type": "code",
      "execution_count": null,
      "id": "7e17e28e",
      "metadata": {
        "id": "7e17e28e"
      },
      "outputs": [],
      "source": [
        "#City-wise distribution of 'company_type'\n",
        "cop=DataSet.groupby([\"city\"])[\"company_type\"].value_counts()\n",
        "copdf=pd.DataFrame(cop)\n",
        "copdf[\"counts_max\"]=copdf.groupby([\"city\"])[\"company_type\"].transform(sum)"
      ]
    },
    {
      "cell_type": "code",
      "execution_count": null,
      "id": "56e7fcb6",
      "metadata": {
        "id": "56e7fcb6",
        "outputId": "da1695b9-c08c-4f53-87bb-33c6c09fed62"
      },
      "outputs": [
        {
          "data": {
            "text/html": [
              "<div>\n",
              "<style scoped>\n",
              "    .dataframe tbody tr th:only-of-type {\n",
              "        vertical-align: middle;\n",
              "    }\n",
              "\n",
              "    .dataframe tbody tr th {\n",
              "        vertical-align: top;\n",
              "    }\n",
              "\n",
              "    .dataframe thead th {\n",
              "        text-align: right;\n",
              "    }\n",
              "</style>\n",
              "<table border=\"1\" class=\"dataframe\">\n",
              "  <thead>\n",
              "    <tr style=\"text-align: right;\">\n",
              "      <th></th>\n",
              "      <th></th>\n",
              "      <th>company_type</th>\n",
              "      <th>counts_max</th>\n",
              "    </tr>\n",
              "    <tr>\n",
              "      <th>city</th>\n",
              "      <th>company_type</th>\n",
              "      <th></th>\n",
              "      <th></th>\n",
              "    </tr>\n",
              "  </thead>\n",
              "  <tbody>\n",
              "    <tr>\n",
              "      <th>Philadelphia</th>\n",
              "      <th>Private</th>\n",
              "      <td>1</td>\n",
              "      <td>1</td>\n",
              "    </tr>\n",
              "    <tr>\n",
              "      <th>Addison</th>\n",
              "      <th>Private</th>\n",
              "      <td>1</td>\n",
              "      <td>1</td>\n",
              "    </tr>\n",
              "    <tr>\n",
              "      <th>Ames</th>\n",
              "      <th>Private</th>\n",
              "      <td>1</td>\n",
              "      <td>1</td>\n",
              "    </tr>\n",
              "    <tr>\n",
              "      <th>Amherst</th>\n",
              "      <th>Private</th>\n",
              "      <td>1</td>\n",
              "      <td>1</td>\n",
              "    </tr>\n",
              "    <tr>\n",
              "      <th>Ann Arbor</th>\n",
              "      <th>Private</th>\n",
              "      <td>1</td>\n",
              "      <td>2</td>\n",
              "    </tr>\n",
              "  </tbody>\n",
              "</table>\n",
              "</div>"
            ],
            "text/plain": [
              "                            company_type  counts_max\n",
              "city          company_type                          \n",
              " Philadelphia Private                  1           1\n",
              "Addison       Private                  1           1\n",
              "Ames          Private                  1           1\n",
              "Amherst       Private                  1           1\n",
              "Ann Arbor     Private                  1           2"
            ]
          },
          "execution_count": 208,
          "metadata": {},
          "output_type": "execute_result"
        }
      ],
      "source": [
        "#displaying the first 5 entries\n",
        "copdf.head(5)"
      ]
    },
    {
      "cell_type": "code",
      "execution_count": null,
      "id": "6a3aaa8a",
      "metadata": {
        "id": "6a3aaa8a",
        "outputId": "27b5ace2-0f51-4e02-a209-7387fe704b5a"
      },
      "outputs": [
        {
          "data": {
            "text/html": [
              "<div>\n",
              "<style scoped>\n",
              "    .dataframe tbody tr th:only-of-type {\n",
              "        vertical-align: middle;\n",
              "    }\n",
              "\n",
              "    .dataframe tbody tr th {\n",
              "        vertical-align: top;\n",
              "    }\n",
              "\n",
              "    .dataframe thead th {\n",
              "        text-align: right;\n",
              "    }\n",
              "</style>\n",
              "<table border=\"1\" class=\"dataframe\">\n",
              "  <thead>\n",
              "    <tr style=\"text-align: right;\">\n",
              "      <th></th>\n",
              "      <th></th>\n",
              "      <th>company_type</th>\n",
              "      <th>counts_max</th>\n",
              "    </tr>\n",
              "    <tr>\n",
              "      <th>city</th>\n",
              "      <th>company_type</th>\n",
              "      <th></th>\n",
              "      <th></th>\n",
              "    </tr>\n",
              "  </thead>\n",
              "  <tbody>\n",
              "    <tr>\n",
              "      <th>White River Junction</th>\n",
              "      <th>Private</th>\n",
              "      <td>1</td>\n",
              "      <td>1</td>\n",
              "    </tr>\n",
              "    <tr>\n",
              "      <th>Williamsville</th>\n",
              "      <th>partnership</th>\n",
              "      <td>1</td>\n",
              "      <td>1</td>\n",
              "    </tr>\n",
              "    <tr>\n",
              "      <th>Wyckoff</th>\n",
              "      <th>Private</th>\n",
              "      <td>1</td>\n",
              "      <td>1</td>\n",
              "    </tr>\n",
              "    <tr>\n",
              "      <th>Yonkers</th>\n",
              "      <th>Nonprofit</th>\n",
              "      <td>1</td>\n",
              "      <td>1</td>\n",
              "    </tr>\n",
              "    <tr>\n",
              "      <th>Yorkville</th>\n",
              "      <th>Private</th>\n",
              "      <td>1</td>\n",
              "      <td>1</td>\n",
              "    </tr>\n",
              "  </tbody>\n",
              "</table>\n",
              "</div>"
            ],
            "text/plain": [
              "                                   company_type  counts_max\n",
              "city                 company_type                          \n",
              "White River Junction Private                  1           1\n",
              "Williamsville        partnership              1           1\n",
              "Wyckoff              Private                  1           1\n",
              "Yonkers              Nonprofit                1           1\n",
              "Yorkville            Private                  1           1"
            ]
          },
          "execution_count": 209,
          "metadata": {},
          "output_type": "execute_result"
        }
      ],
      "source": [
        "#displaying the last 5 entries\n",
        "copdf.tail(5)"
      ]
    },
    {
      "cell_type": "code",
      "execution_count": null,
      "id": "12ac49c3",
      "metadata": {
        "id": "12ac49c3"
      },
      "outputs": [],
      "source": [
        "#state-wise distribution of 'company_type'\n",
        "dr=DataSet.groupby([\"state\",\"company_type\"])[\"company_type\"].count()"
      ]
    },
    {
      "cell_type": "code",
      "execution_count": null,
      "id": "75cfaac7",
      "metadata": {
        "id": "75cfaac7",
        "outputId": "d607a91f-833d-451d-bc21-caa2b0bf381a"
      },
      "outputs": [
        {
          "data": {
            "text/plain": [
              "state  company_type             \n",
              "AL     Private                      1\n",
              "AR     Public                       1\n",
              "AZ     Private                      2\n",
              "       Public                       1\n",
              "CA     Company type not revealed    3\n",
              "Name: company_type, dtype: int64"
            ]
          },
          "execution_count": 211,
          "metadata": {},
          "output_type": "execute_result"
        }
      ],
      "source": [
        "#displaying the first 5 entries\n",
        "dr.head(5)"
      ]
    },
    {
      "cell_type": "code",
      "execution_count": null,
      "id": "2a440c41",
      "metadata": {
        "id": "2a440c41",
        "outputId": "31ff2e16-b85d-42bc-f56b-112594000f5f"
      },
      "outputs": [
        {
          "data": {
            "text/plain": [
              "state  company_type             \n",
              "WA     Company type not revealed     1\n",
              "       Nonprofit                     1\n",
              "       Private                      17\n",
              "       Public                        6\n",
              "WI     Private                       4\n",
              "Name: company_type, dtype: int64"
            ]
          },
          "execution_count": 212,
          "metadata": {},
          "output_type": "execute_result"
        }
      ],
      "source": [
        "#displaying the last 5 entries\n",
        "dr.tail(5)"
      ]
    },
    {
      "cell_type": "code",
      "execution_count": null,
      "id": "bd791449",
      "metadata": {
        "id": "bd791449",
        "outputId": "3ccbe0ec-a674-476b-9c33-eb755f3811c1"
      },
      "outputs": [
        {
          "name": "stdout",
          "output_type": "stream",
          "text": [
            "What is the 'company_type' distribution in the 'city' with most number of companies\n",
            "                                    company_type  counts_max\n",
            "city     company_type                                       \n",
            "New York Private                              54          83\n",
            "         Public                               17          83\n",
            "         Company type not revealed             7          83\n",
            "         Nonprofit                             3          83\n",
            "         Partnership                           1          83\n",
            "         sole proprietorship                   1          83\n"
          ]
        }
      ],
      "source": [
        "print(\"What is the 'company_type' distribution in the 'city' with most number of companies\")\n",
        "print(copdf[copdf.counts_max==copdf.counts_max.max()])"
      ]
    },
    {
      "cell_type": "code",
      "execution_count": null,
      "id": "69b80242",
      "metadata": {
        "id": "69b80242",
        "outputId": "4c3b9117-e528-4923-a1ac-b60befae5558"
      },
      "outputs": [
        {
          "name": "stdout",
          "output_type": "stream",
          "text": [
            "In the city of New York, 'Private' companies are more in number\n"
          ]
        }
      ],
      "source": [
        "print(\"In the city of New York, 'Private' companies are more in number\")"
      ]
    },
    {
      "cell_type": "code",
      "execution_count": null,
      "id": "c310840c",
      "metadata": {
        "id": "c310840c",
        "outputId": "1a279db3-1b26-4a4e-b0fc-f56526f04b4f"
      },
      "outputs": [
        {
          "name": "stdout",
          "output_type": "stream",
          "text": [
            "What are the different types of 'company_category'?\n"
          ]
        },
        {
          "data": {
            "text/plain": [
              "['Data/Technology',\n",
              " 'Finance & Investment',\n",
              " 'Research & Consulting',\n",
              " 'Governance',\n",
              " 'Company category not available',\n",
              " 'Environment & Weather',\n",
              " 'Business & Legal Services',\n",
              " 'Healthcare',\n",
              " 'Lifestyle & Consumer',\n",
              " 'Transportation',\n",
              " 'Insurance',\n",
              " 'Education',\n",
              " 'Energy',\n",
              " 'Scientific Research',\n",
              " 'Geospatial/Mapping',\n",
              " 'Housing/Real Estate',\n",
              " 'Food & Agriculture',\n",
              " 'Data/Technology,',\n",
              " 'Media',\n",
              " 'Housing/Real Estate,',\n",
              " 'Aerospace and Defense']"
            ]
          },
          "execution_count": 215,
          "metadata": {},
          "output_type": "execute_result"
        }
      ],
      "source": [
        "print(\"What are the different types of 'company_category'?\")\n",
        "DataSet['company_category'].unique().tolist()"
      ]
    },
    {
      "cell_type": "code",
      "execution_count": null,
      "id": "05979374",
      "metadata": {
        "id": "05979374",
        "outputId": "8f4ccc94-d893-4b43-954a-203c28e9d14b"
      },
      "outputs": [
        {
          "name": "stdout",
          "output_type": "stream",
          "text": [
            "What are the 5 most common types in 'company_category' ?\n"
          ]
        },
        {
          "data": {
            "text/plain": [
              "company_category\n",
              "Healthcare                   40\n",
              "Governance                   43\n",
              "Business & Legal Services    44\n",
              "Finance & Investment         75\n",
              "Data/Technology              97\n",
              "Name: company_category, dtype: int64"
            ]
          },
          "execution_count": 216,
          "metadata": {},
          "output_type": "execute_result"
        }
      ],
      "source": [
        "#Lets find out top 5 most popular 'company_category'\n",
        "print(\"What are the 5 most common types in 'company_category' ?\")\n",
        "\n",
        "category=DataSet.groupby(['company_category'])['company_category'].count()\n",
        "a=category.sort_values()\n",
        "a.tail(5)"
      ]
    },
    {
      "cell_type": "code",
      "execution_count": null,
      "id": "9ef110e1",
      "metadata": {
        "id": "9ef110e1",
        "outputId": "ff470d2c-8461-4894-d226-71b4b5c6a669"
      },
      "outputs": [
        {
          "name": "stdout",
          "output_type": "stream",
          "text": [
            "'Data/Technology' based companies are more in number\n"
          ]
        }
      ],
      "source": [
        "print(\"'Data/Technology' based companies are more in number\")"
      ]
    },
    {
      "cell_type": "code",
      "execution_count": null,
      "id": "061a5220",
      "metadata": {
        "id": "061a5220",
        "outputId": "34af9295-c5c7-43fa-e00a-e7ad921c8e9c"
      },
      "outputs": [
        {
          "name": "stdout",
          "output_type": "stream",
          "text": [
            "This is distribution of employees over different company categories: \n"
          ]
        },
        {
          "data": {
            "text/plain": [
              "<AxesSubplot:ylabel='company_category'>"
            ]
          },
          "execution_count": 218,
          "metadata": {},
          "output_type": "execute_result"
        },
        {
          "data": {
            "image/png": "[encoded data removed]",
            "text/plain": [
              "<Figure size 432x288 with 1 Axes>"
            ]
          },
          "metadata": {
            "needs_background": "light"
          },
          "output_type": "display_data"
        }
      ],
      "source": [
        "#Let's see the distribution of number of employees under each type of 'company_category'\n",
        "cc=DataSet.groupby(['company_category'])['employees'].sum()\n",
        "print(\"This is distribution of employees over different company categories: \")\n",
        "cc.plot(kind='barh')"
      ]
    },
    {
      "cell_type": "code",
      "execution_count": null,
      "id": "31660b44",
      "metadata": {
        "id": "31660b44",
        "outputId": "1c1a8356-7947-45dc-ad6c-1e26b3f82749"
      },
      "outputs": [
        {
          "name": "stdout",
          "output_type": "stream",
          "text": [
            "'Finance & Investment' has the maximum exployment\n"
          ]
        }
      ],
      "source": [
        "print(\"'Finance & Investment' has the maximum exployment\")"
      ]
    },
    {
      "cell_type": "code",
      "execution_count": null,
      "id": "5302e133",
      "metadata": {
        "id": "5302e133",
        "outputId": "2cddbfd5-a32e-4179-dec2-6354738359ad"
      },
      "outputs": [
        {
          "data": {
            "text/plain": [
              "<seaborn.axisgrid.JointGrid at 0x7ff682d7acd0>"
            ]
          },
          "execution_count": 220,
          "metadata": {},
          "output_type": "execute_result"
        },
        {
          "data": {
            "image/png": "[encoded data removed]",
            "text/plain": [
              "<Figure size 432x432 with 3 Axes>"
            ]
          },
          "metadata": {
            "needs_background": "light"
          },
          "output_type": "display_data"
        }
      ],
      "source": [
        "#joint plot of 'company_category' and 'state'\n",
        "sns.jointplot(x = 'state',y='company_category',data = DataSet)"
      ]
    },
    {
      "cell_type": "code",
      "execution_count": null,
      "id": "3db1e8c3",
      "metadata": {
        "id": "3db1e8c3",
        "outputId": "c82b1503-a08c-42fd-e7b5-911691356344"
      },
      "outputs": [
        {
          "data": {
            "text/plain": [
              "<seaborn.axisgrid.JointGrid at 0x7ff67b5e31c0>"
            ]
          },
          "execution_count": 221,
          "metadata": {},
          "output_type": "execute_result"
        },
        {
          "data": {
            "image/png": "[encoded data removed]",
            "text/plain": [
              "<Figure size 432x432 with 3 Axes>"
            ]
          },
          "metadata": {
            "needs_background": "light"
          },
          "output_type": "display_data"
        }
      ],
      "source": [
        "#joint plot of 'company_category' and 'employees'\n",
        "sns.jointplot(x = 'employees',y='company_category',data=DataSet)"
      ]
    },
    {
      "cell_type": "code",
      "execution_count": null,
      "id": "94c4759a",
      "metadata": {
        "id": "94c4759a",
        "outputId": "b530d0c8-bc4f-4728-adf7-9bb46c8f8221"
      },
      "outputs": [
        {
          "name": "stdout",
          "output_type": "stream",
          "text": [
            "Which 'Public' company is involved in 'Education' category?\n"
          ]
        },
        {
          "data": {
            "text/html": [
              "<div>\n",
              "<style scoped>\n",
              "    .dataframe tbody tr th:only-of-type {\n",
              "        vertical-align: middle;\n",
              "    }\n",
              "\n",
              "    .dataframe tbody tr th {\n",
              "        vertical-align: top;\n",
              "    }\n",
              "\n",
              "    .dataframe thead th {\n",
              "        text-align: right;\n",
              "    }\n",
              "</style>\n",
              "<table border=\"1\" class=\"dataframe\">\n",
              "  <thead>\n",
              "    <tr style=\"text-align: right;\">\n",
              "      <th></th>\n",
              "      <th>company_name</th>\n",
              "      <th>year_founded</th>\n",
              "      <th>city</th>\n",
              "      <th>state</th>\n",
              "      <th>company_type</th>\n",
              "      <th>company_category</th>\n",
              "      <th>revenue_source</th>\n",
              "      <th>business_model</th>\n",
              "      <th>description</th>\n",
              "      <th>description_short</th>\n",
              "      <th>employees</th>\n",
              "    </tr>\n",
              "  </thead>\n",
              "  <tbody>\n",
              "    <tr>\n",
              "      <th>361</th>\n",
              "      <td>Peterson's</td>\n",
              "      <td>1966.0</td>\n",
              "      <td>Paramus</td>\n",
              "      <td>NJ</td>\n",
              "      <td>Public</td>\n",
              "      <td>Education</td>\n",
              "      <td>not reported by company</td>\n",
              "      <td>business to consumer</td>\n",
              "      <td>Peterson's provides an integrated suite of pro...</td>\n",
              "      <td>Peterson's provides an integrated suite of pro...</td>\n",
              "      <td>200.0</td>\n",
              "    </tr>\n",
              "  </tbody>\n",
              "</table>\n",
              "</div>"
            ],
            "text/plain": [
              "    company_name  year_founded     city state company_type company_category  \\\n",
              "361   Peterson's        1966.0  Paramus    NJ       Public        Education   \n",
              "\n",
              "              revenue_source        business_model  \\\n",
              "361  not reported by company  business to consumer   \n",
              "\n",
              "                                           description  \\\n",
              "361  Peterson's provides an integrated suite of pro...   \n",
              "\n",
              "                                     description_short  employees  \n",
              "361  Peterson's provides an integrated suite of pro...      200.0  "
            ]
          },
          "execution_count": 222,
          "metadata": {},
          "output_type": "execute_result"
        }
      ],
      "source": [
        "print(\"Which 'Public' company is involved in 'Education' category?\")\n",
        "Df_type = DataSet[\"company_type\"]==\"Public\"\n",
        "Df_category = DataSet[\"company_category\"]==\"Education\"\n",
        "DataSet[Df_type & Df_category]"
      ]
    },
    {
      "cell_type": "code",
      "execution_count": null,
      "id": "ce846f60",
      "metadata": {
        "id": "ce846f60",
        "outputId": "4051cce4-81b7-42bc-cd88-bba4a38e753d"
      },
      "outputs": [
        {
          "name": "stdout",
          "output_type": "stream",
          "text": [
            "How many 'categories' fall under which 'company_type'? Which are they?\n"
          ]
        },
        {
          "data": {
            "text/html": [
              "<div>\n",
              "<style scoped>\n",
              "    .dataframe tbody tr th:only-of-type {\n",
              "        vertical-align: middle;\n",
              "    }\n",
              "\n",
              "    .dataframe tbody tr th {\n",
              "        vertical-align: top;\n",
              "    }\n",
              "\n",
              "    .dataframe thead th {\n",
              "        text-align: right;\n",
              "    }\n",
              "</style>\n",
              "<table border=\"1\" class=\"dataframe\">\n",
              "  <thead>\n",
              "    <tr style=\"text-align: right;\">\n",
              "      <th></th>\n",
              "      <th></th>\n",
              "      <th>company_category</th>\n",
              "    </tr>\n",
              "    <tr>\n",
              "      <th>company_type</th>\n",
              "      <th>company_category</th>\n",
              "      <th></th>\n",
              "    </tr>\n",
              "  </thead>\n",
              "  <tbody>\n",
              "    <tr>\n",
              "      <th rowspan=\"2\" valign=\"top\">Private</th>\n",
              "      <th>Scientific Research</th>\n",
              "      <td>12</td>\n",
              "    </tr>\n",
              "    <tr>\n",
              "      <th>Transportation</th>\n",
              "      <td>27</td>\n",
              "    </tr>\n",
              "    <tr>\n",
              "      <th rowspan=\"17\" valign=\"top\">Public</th>\n",
              "      <th>Business &amp; Legal Services</th>\n",
              "      <td>8</td>\n",
              "    </tr>\n",
              "    <tr>\n",
              "      <th>Company category not available</th>\n",
              "      <td>2</td>\n",
              "    </tr>\n",
              "    <tr>\n",
              "      <th>Data/Technology</th>\n",
              "      <td>15</td>\n",
              "    </tr>\n",
              "    <tr>\n",
              "      <th>Education</th>\n",
              "      <td>1</td>\n",
              "    </tr>\n",
              "    <tr>\n",
              "      <th>Energy</th>\n",
              "      <td>1</td>\n",
              "    </tr>\n",
              "    <tr>\n",
              "      <th>Environment &amp; Weather</th>\n",
              "      <td>2</td>\n",
              "    </tr>\n",
              "    <tr>\n",
              "      <th>Finance &amp; Investment</th>\n",
              "      <td>19</td>\n",
              "    </tr>\n",
              "    <tr>\n",
              "      <th>Food &amp; Agriculture</th>\n",
              "      <td>1</td>\n",
              "    </tr>\n",
              "    <tr>\n",
              "      <th>Geospatial/Mapping</th>\n",
              "      <td>6</td>\n",
              "    </tr>\n",
              "    <tr>\n",
              "      <th>Governance</th>\n",
              "      <td>3</td>\n",
              "    </tr>\n",
              "    <tr>\n",
              "      <th>Healthcare</th>\n",
              "      <td>6</td>\n",
              "    </tr>\n",
              "    <tr>\n",
              "      <th>Housing/Real Estate</th>\n",
              "      <td>6</td>\n",
              "    </tr>\n",
              "    <tr>\n",
              "      <th>Insurance</th>\n",
              "      <td>7</td>\n",
              "    </tr>\n",
              "    <tr>\n",
              "      <th>Lifestyle &amp; Consumer</th>\n",
              "      <td>5</td>\n",
              "    </tr>\n",
              "    <tr>\n",
              "      <th>Research &amp; Consulting</th>\n",
              "      <td>7</td>\n",
              "    </tr>\n",
              "    <tr>\n",
              "      <th>Scientific Research</th>\n",
              "      <td>2</td>\n",
              "    </tr>\n",
              "    <tr>\n",
              "      <th>Transportation</th>\n",
              "      <td>1</td>\n",
              "    </tr>\n",
              "    <tr>\n",
              "      <th>Public (Federal-USGS)</th>\n",
              "      <th>Geospatial/Mapping</th>\n",
              "      <td>1</td>\n",
              "    </tr>\n",
              "    <tr>\n",
              "      <th>nonprofit + commercial spinoff</th>\n",
              "      <th>Healthcare</th>\n",
              "      <td>1</td>\n",
              "    </tr>\n",
              "    <tr>\n",
              "      <th rowspan=\"3\" valign=\"top\">partnership</th>\n",
              "      <th>Business &amp; Legal Services</th>\n",
              "      <td>2</td>\n",
              "    </tr>\n",
              "    <tr>\n",
              "      <th>Data/Technology</th>\n",
              "      <td>1</td>\n",
              "    </tr>\n",
              "    <tr>\n",
              "      <th>Finance &amp; Investment</th>\n",
              "      <td>1</td>\n",
              "    </tr>\n",
              "    <tr>\n",
              "      <th>sole proprietorship</th>\n",
              "      <th>Education</th>\n",
              "      <td>1</td>\n",
              "    </tr>\n",
              "  </tbody>\n",
              "</table>\n",
              "</div>"
            ],
            "text/plain": [
              "                                                               company_category\n",
              "company_type                   company_category                                \n",
              "Private                        Scientific Research                           12\n",
              "                               Transportation                                27\n",
              "Public                         Business & Legal Services                      8\n",
              "                               Company category not available                 2\n",
              "                               Data/Technology                               15\n",
              "                               Education                                      1\n",
              "                               Energy                                         1\n",
              "                               Environment & Weather                          2\n",
              "                               Finance & Investment                          19\n",
              "                               Food & Agriculture                             1\n",
              "                               Geospatial/Mapping                             6\n",
              "                               Governance                                     3\n",
              "                               Healthcare                                     6\n",
              "                               Housing/Real Estate                            6\n",
              "                               Insurance                                      7\n",
              "                               Lifestyle & Consumer                           5\n",
              "                               Research & Consulting                          7\n",
              "                               Scientific Research                            2\n",
              "                               Transportation                                 1\n",
              "Public (Federal-USGS)          Geospatial/Mapping                             1\n",
              "nonprofit + commercial spinoff Healthcare                                     1\n",
              "partnership                    Business & Legal Services                      2\n",
              "                               Data/Technology                                1\n",
              "                               Finance & Investment                           1\n",
              "sole proprietorship            Education                                      1"
            ]
          },
          "execution_count": 223,
          "metadata": {},
          "output_type": "execute_result"
        }
      ],
      "source": [
        "print(\"How many 'categories' fall under which 'company_type'? Which are they?\")\n",
        "f=DataSet.groupby([\"company_type\",\"company_category\"])[\"company_category\"].count()\n",
        "dff=pd.DataFrame(f)\n",
        "dff.tail(25)"
      ]
    },
    {
      "cell_type": "code",
      "execution_count": null,
      "id": "7b6bf904",
      "metadata": {
        "id": "7b6bf904",
        "outputId": "8d077648-792a-474b-eac4-78e273ed7c17"
      },
      "outputs": [
        {
          "name": "stdout",
          "output_type": "stream",
          "text": [
            "From above we can infer that many 'Public' companies are based on 'Finance & Investment' \n"
          ]
        }
      ],
      "source": [
        "print(\"From above we can infer that many 'Public' companies are based on 'Finance & Investment' \")"
      ]
    },
    {
      "cell_type": "code",
      "execution_count": null,
      "id": "a60e1e41",
      "metadata": {
        "id": "a60e1e41",
        "outputId": "cdfdf8de-d46b-440a-e06e-c4eeffede04f"
      },
      "outputs": [
        {
          "name": "stdout",
          "output_type": "stream",
          "text": [
            "State which is not popular for \"Finance & Investment\" category: IA\n",
            "State which is popular for \"Finance & Investment\" category: NY\n",
            "--------------------------------------------------------------------------------------------------------------------\n",
            "State with unpopular Governance category: TN\n",
            "State with popular Governance category: CA\n"
          ]
        }
      ],
      "source": [
        "#Let's find the most and least popular state for 'Finance & investment' category\n",
        "category_state=DataSet.groupby(['company_category'])\n",
        "x=category_state.get_group(('Finance & Investment'))\n",
        "FnI=list(x['state'])\n",
        "z=dict(Counter(FnI))\n",
        "q={value:key for key, value in z.items()}\n",
        "\n",
        "\n",
        "uuu=q[max(list(q.keys()))]\n",
        "m=q[min(list(q.keys()))]\n",
        "print('State which is not popular for \"Finance & Investment\" category:',m)\n",
        "print('State which is popular for \"Finance & Investment\" category:',uuu)\n",
        "print('--------------------------------------------------------------------------------------------------------------------')\n",
        "\n",
        "#Let's find the most and least popular state for 'Governance'\n",
        "GOV=category_state.get_group(('Governance'))\n",
        "Gov=list(GOV['state'])\n",
        "yy=Counter(Gov)\n",
        "gov={value:key for key, value in yy.items()}\n",
        "\n",
        "CC=gov[max(list(gov.keys()))]\n",
        "DD=gov[min(list(gov.keys()))]\n",
        "print('State with unpopular Governance category:',DD)\n",
        "print('State with popular Governance category:',CC)"
      ]
    },
    {
      "cell_type": "code",
      "execution_count": null,
      "id": "e07ee54f",
      "metadata": {
        "id": "e07ee54f",
        "outputId": "1c582504-120c-4d7a-c742-a4082a7ac173"
      },
      "outputs": [
        {
          "name": "stdout",
          "output_type": "stream",
          "text": [
            "The year with the most number of 'Data/Technology' based companies was : 2014.0\n",
            "The trend towards data analysis started roughly around 2014\n"
          ]
        }
      ],
      "source": [
        "#Lets find out which year witnessed the growth in 'Data/Technology' based companies\n",
        "da=category_state.get_group(('Data/Technology'))\n",
        "year=list(da['year_founded'])\n",
        "year_count=Counter(year)\n",
        "print(\"The year with the most number of 'Data/Technology' based companies was :\",max(year_count))\n",
        "print(\"The trend towards data analysis started roughly around 2014\")"
      ]
    },
    {
      "cell_type": "code",
      "execution_count": null,
      "id": "49a9a2cf",
      "metadata": {
        "id": "49a9a2cf",
        "outputId": "dd538e15-abcd-4068-8288-a979ebdfcd91"
      },
      "outputs": [
        {
          "name": "stdout",
          "output_type": "stream",
          "text": [
            "Companies with 'company_type-Private' and 'company_category-Finance & Investment' are :\n"
          ]
        },
        {
          "data": {
            "text/html": [
              "<div>\n",
              "<style scoped>\n",
              "    .dataframe tbody tr th:only-of-type {\n",
              "        vertical-align: middle;\n",
              "    }\n",
              "\n",
              "    .dataframe tbody tr th {\n",
              "        vertical-align: top;\n",
              "    }\n",
              "\n",
              "    .dataframe thead th {\n",
              "        text-align: right;\n",
              "    }\n",
              "</style>\n",
              "<table border=\"1\" class=\"dataframe\">\n",
              "  <thead>\n",
              "    <tr style=\"text-align: right;\">\n",
              "      <th></th>\n",
              "      <th>company_name</th>\n",
              "      <th>year_founded</th>\n",
              "      <th>city</th>\n",
              "      <th>state</th>\n",
              "      <th>company_type</th>\n",
              "      <th>company_category</th>\n",
              "      <th>revenue_source</th>\n",
              "      <th>business_model</th>\n",
              "      <th>description</th>\n",
              "      <th>description_short</th>\n",
              "      <th>employees</th>\n",
              "    </tr>\n",
              "  </thead>\n",
              "  <tbody>\n",
              "    <tr>\n",
              "      <th>1</th>\n",
              "      <td>48 Factoring Inc.</td>\n",
              "      <td>2014.0</td>\n",
              "      <td>Philadelphia</td>\n",
              "      <td>PA</td>\n",
              "      <td>Private</td>\n",
              "      <td>Finance &amp; Investment</td>\n",
              "      <td>financial services</td>\n",
              "      <td>business to business</td>\n",
              "      <td>The company mission is to provide finance to s...</td>\n",
              "      <td>48 Factoring Inc. is one of the best financial...</td>\n",
              "      <td>200.0</td>\n",
              "    </tr>\n",
              "    <tr>\n",
              "      <th>29</th>\n",
              "      <td>Asset4</td>\n",
              "      <td>2003.0</td>\n",
              "      <td>New York</td>\n",
              "      <td>NY</td>\n",
              "      <td>Private</td>\n",
              "      <td>Finance &amp; Investment</td>\n",
              "      <td>not reported by company</td>\n",
              "      <td>business to business</td>\n",
              "      <td>ASSET4 AG provides investment research informa...</td>\n",
              "      <td>Asset4 provides objective, comparable and audi...</td>\n",
              "      <td>200.0</td>\n",
              "    </tr>\n",
              "    <tr>\n",
              "      <th>35</th>\n",
              "      <td>Avalara</td>\n",
              "      <td>2004.0</td>\n",
              "      <td>Bainbridge Island</td>\n",
              "      <td>WA</td>\n",
              "      <td>Private</td>\n",
              "      <td>Finance &amp; Investment</td>\n",
              "      <td>not reported by company</td>\n",
              "      <td>business to consumer</td>\n",
              "      <td>Avalara has created a web-based platform that ...</td>\n",
              "      <td>Avalara combines technology with available sta...</td>\n",
              "      <td>1000.0</td>\n",
              "    </tr>\n",
              "    <tr>\n",
              "      <th>43</th>\n",
              "      <td>Berkery Noyes MandASoft</td>\n",
              "      <td>2009.0</td>\n",
              "      <td>New York</td>\n",
              "      <td>NY</td>\n",
              "      <td>Private</td>\n",
              "      <td>Finance &amp; Investment</td>\n",
              "      <td>not reported by company</td>\n",
              "      <td>business to business, business to consumer</td>\n",
              "      <td>MandAsoft.com, provided by Berkery Noves, is a...</td>\n",
              "      <td>MandAsoft.com, created by Berkery Noyes, is a ...</td>\n",
              "      <td>10.0</td>\n",
              "    </tr>\n",
              "    <tr>\n",
              "      <th>46</th>\n",
              "      <td>BillGuard</td>\n",
              "      <td>2010.0</td>\n",
              "      <td>New York</td>\n",
              "      <td>NY</td>\n",
              "      <td>Private</td>\n",
              "      <td>Finance &amp; Investment</td>\n",
              "      <td>user fees for web or mobile access</td>\n",
              "      <td>business to consumer</td>\n",
              "      <td>BillGuard's mission is to use data to save peo...</td>\n",
              "      <td>BillGuard is a personal finance security compa...</td>\n",
              "      <td>50.0</td>\n",
              "    </tr>\n",
              "  </tbody>\n",
              "</table>\n",
              "</div>"
            ],
            "text/plain": [
              "               company_name  year_founded               city state  \\\n",
              "1         48 Factoring Inc.        2014.0       Philadelphia    PA   \n",
              "29                   Asset4        2003.0           New York    NY   \n",
              "35                  Avalara        2004.0  Bainbridge Island    WA   \n",
              "43  Berkery Noyes MandASoft        2009.0           New York    NY   \n",
              "46                BillGuard        2010.0           New York    NY   \n",
              "\n",
              "   company_type      company_category                      revenue_source  \\\n",
              "1       Private  Finance & Investment                  financial services   \n",
              "29      Private  Finance & Investment             not reported by company   \n",
              "35      Private  Finance & Investment             not reported by company   \n",
              "43      Private  Finance & Investment             not reported by company   \n",
              "46      Private  Finance & Investment  user fees for web or mobile access   \n",
              "\n",
              "                                business_model  \\\n",
              "1                         business to business   \n",
              "29                        business to business   \n",
              "35                        business to consumer   \n",
              "43  business to business, business to consumer   \n",
              "46                        business to consumer   \n",
              "\n",
              "                                          description  \\\n",
              "1   The company mission is to provide finance to s...   \n",
              "29  ASSET4 AG provides investment research informa...   \n",
              "35  Avalara has created a web-based platform that ...   \n",
              "43  MandAsoft.com, provided by Berkery Noves, is a...   \n",
              "46  BillGuard's mission is to use data to save peo...   \n",
              "\n",
              "                                    description_short  employees  \n",
              "1   48 Factoring Inc. is one of the best financial...      200.0  \n",
              "29  Asset4 provides objective, comparable and audi...      200.0  \n",
              "35  Avalara combines technology with available sta...     1000.0  \n",
              "43  MandAsoft.com, created by Berkery Noyes, is a ...       10.0  \n",
              "46  BillGuard is a personal finance security compa...       50.0  "
            ]
          },
          "execution_count": 227,
          "metadata": {},
          "output_type": "execute_result"
        }
      ],
      "source": [
        "#Lets find the list of 'Private - Finance & Investment' companies\n",
        "c=DataSet.groupby(['company_type','company_category'])\n",
        "s = c.get_group(('Private','Finance & Investment'))\n",
        "\n",
        "print(\"Companies with 'company_type-Private' and 'company_category-Finance & Investment' are :\")\n",
        "s.head(5)\n"
      ]
    },
    {
      "cell_type": "code",
      "execution_count": null,
      "id": "03ad1442",
      "metadata": {
        "id": "03ad1442",
        "outputId": "ff3425b0-7174-4d88-b60b-c3f4b40220ce"
      },
      "outputs": [
        {
          "name": "stdout",
          "output_type": "stream",
          "text": [
            "Count the total number of companies who collect revenue from certain sector \n"
          ]
        },
        {
          "data": {
            "text/plain": [
              "0\n",
              "advertising                                                 26\n",
              "brokerage fees                                               1\n",
              "consulting                                                   7\n",
              "customers                                                    1\n",
              "data analysis for clients                                   47\n",
              "database licensing                                          12\n",
              "design consulting                                            1\n",
              "educational assessment                                       1\n",
              "financial products and services                              1\n",
              "financial services                                           1\n",
              "government & defense                                         1\n",
              "government contract                                          1\n",
              "growing number of small businesses we are able to serve      1\n",
              "ict product and services                                     1\n",
              "ip licensing                                                 1\n",
              "it and business hardware                                     1\n",
              "it related consulting services                               1\n",
              "lead generation to other businesses                         10\n",
              "media                                                        1\n",
              "membership fees                                              1\n",
              "no revenue                                                   1\n",
              "no revenue; this is an ecmc non-profit initiative.           1\n",
              "not provided by company                                     15\n",
              "not reported by company                                    312\n",
              "other                                                        1\n",
              "philanthropic grants                                         8\n",
              "publication fees                                             1\n",
              "sale of hydrographic cartography                             1\n",
              "software licensing                                          34\n",
              "storage                                                      1\n",
              "subscriptions                                               33\n",
              "user fees for web or mobile access                           3\n",
              "venture capital                                              1\n",
              "Name: company_name, dtype: int64"
            ]
          },
          "execution_count": 228,
          "metadata": {},
          "output_type": "execute_result"
        }
      ],
      "source": [
        "#Let's analyze the different primary 'revenue_source'\n",
        "#Splitting the revenue columns to different columns\n",
        "list_of_revenue= DataSet['revenue_source'].str.split(',', expand=True)\n",
        "list_of_revenue\n",
        "#combining dataset(company_name) and list_of_revenue\n",
        "rev_model=pd.concat([DataSet[\"company_name\"],list_of_revenue], axis=1)\n",
        "rev_model\n",
        "#Count the total number of companies under a particular 'revenue_source'\n",
        "print(\"Count the total number of companies who collect revenue from certain sector \")\n",
        "rev=rev_model.groupby([0])[\"company_name\"].count()\n",
        "rev"
      ]
    },
    {
      "cell_type": "code",
      "execution_count": null,
      "id": "6d0ae147",
      "metadata": {
        "id": "6d0ae147",
        "outputId": "faaf59ba-ca1f-4c6f-a56a-76b30c98c288"
      },
      "outputs": [
        {
          "name": "stdout",
          "output_type": "stream",
          "text": [
            "There are many companies whose 'revenue_source' is not reported/provided\n"
          ]
        }
      ],
      "source": [
        "print(\"There are many companies whose 'revenue_source' is not reported/provided\")"
      ]
    },
    {
      "cell_type": "code",
      "execution_count": null,
      "id": "33843705",
      "metadata": {
        "id": "33843705",
        "outputId": "c77ea9de-74bc-4289-c5a8-bb889ba484cf"
      },
      "outputs": [
        {
          "name": "stdout",
          "output_type": "stream",
          "text": [
            "How many conpanies deal with nonprofit business_model\n"
          ]
        },
        {
          "data": {
            "text/html": [
              "<div>\n",
              "<style scoped>\n",
              "    .dataframe tbody tr th:only-of-type {\n",
              "        vertical-align: middle;\n",
              "    }\n",
              "\n",
              "    .dataframe tbody tr th {\n",
              "        vertical-align: top;\n",
              "    }\n",
              "\n",
              "    .dataframe thead th {\n",
              "        text-align: right;\n",
              "    }\n",
              "</style>\n",
              "<table border=\"1\" class=\"dataframe\">\n",
              "  <thead>\n",
              "    <tr style=\"text-align: right;\">\n",
              "      <th></th>\n",
              "      <th>company_name</th>\n",
              "      <th>year_founded</th>\n",
              "      <th>city</th>\n",
              "      <th>state</th>\n",
              "      <th>company_type</th>\n",
              "      <th>company_category</th>\n",
              "      <th>revenue_source</th>\n",
              "      <th>business_model</th>\n",
              "      <th>description</th>\n",
              "      <th>description_short</th>\n",
              "      <th>employees</th>\n",
              "    </tr>\n",
              "  </thead>\n",
              "  <tbody>\n",
              "    <tr>\n",
              "      <th>77</th>\n",
              "      <td>Center for Responsive Politics</td>\n",
              "      <td>1983.0</td>\n",
              "      <td>Washington DC</td>\n",
              "      <td>DC</td>\n",
              "      <td>Nonprofit</td>\n",
              "      <td>Research &amp; Consulting</td>\n",
              "      <td>not reported by company</td>\n",
              "      <td>nonprofit</td>\n",
              "      <td>As a nonpartisan, independent and nonprofit or...</td>\n",
              "      <td>The Center for Responsive Politics is a resear...</td>\n",
              "      <td>50.0</td>\n",
              "    </tr>\n",
              "    <tr>\n",
              "      <th>83</th>\n",
              "      <td>Chemical Abstracts Service</td>\n",
              "      <td>1907.0</td>\n",
              "      <td>Columbus</td>\n",
              "      <td>OH</td>\n",
              "      <td>Nonprofit</td>\n",
              "      <td>Scientific Research</td>\n",
              "      <td>not reported by company</td>\n",
              "      <td>nonprofit</td>\n",
              "      <td>CAS originated in 1907 when the American Chemi...</td>\n",
              "      <td>Chemical Abstracts Service, a division of the ...</td>\n",
              "      <td>5000.0</td>\n",
              "    </tr>\n",
              "    <tr>\n",
              "      <th>206</th>\n",
              "      <td>GuideStar</td>\n",
              "      <td>1994.0</td>\n",
              "      <td>Washington</td>\n",
              "      <td>DC</td>\n",
              "      <td>Nonprofit</td>\n",
              "      <td>Governance</td>\n",
              "      <td>data analysis for clients, database licensing,...</td>\n",
              "      <td>nonprofit</td>\n",
              "      <td>We believe a strong nonprofit information infr...</td>\n",
              "      <td>GuideStar's mission is to revolutionize philan...</td>\n",
              "      <td>200.0</td>\n",
              "    </tr>\n",
              "    <tr>\n",
              "      <th>222</th>\n",
              "      <td>ideas42</td>\n",
              "      <td>2008.0</td>\n",
              "      <td>New York</td>\n",
              "      <td>NY</td>\n",
              "      <td>Nonprofit</td>\n",
              "      <td>Research &amp; Consulting</td>\n",
              "      <td>philanthropic grants</td>\n",
              "      <td>nonprofit</td>\n",
              "      <td>ideas42 is a design and research lab that uses...</td>\n",
              "      <td>Ideas42 uses behavioral economics to do social...</td>\n",
              "      <td>50.0</td>\n",
              "    </tr>\n",
              "  </tbody>\n",
              "</table>\n",
              "</div>"
            ],
            "text/plain": [
              "                       company_name  year_founded           city state  \\\n",
              "77   Center for Responsive Politics        1983.0  Washington DC    DC   \n",
              "83       Chemical Abstracts Service        1907.0       Columbus    OH   \n",
              "206                       GuideStar        1994.0     Washington    DC   \n",
              "222                         ideas42        2008.0       New York    NY   \n",
              "\n",
              "    company_type       company_category  \\\n",
              "77     Nonprofit  Research & Consulting   \n",
              "83     Nonprofit    Scientific Research   \n",
              "206    Nonprofit             Governance   \n",
              "222    Nonprofit  Research & Consulting   \n",
              "\n",
              "                                        revenue_source business_model  \\\n",
              "77                             not reported by company      nonprofit   \n",
              "83                             not reported by company      nonprofit   \n",
              "206  data analysis for clients, database licensing,...      nonprofit   \n",
              "222                               philanthropic grants      nonprofit   \n",
              "\n",
              "                                           description  \\\n",
              "77   As a nonpartisan, independent and nonprofit or...   \n",
              "83   CAS originated in 1907 when the American Chemi...   \n",
              "206  We believe a strong nonprofit information infr...   \n",
              "222  ideas42 is a design and research lab that uses...   \n",
              "\n",
              "                                     description_short  employees  \n",
              "77   The Center for Responsive Politics is a resear...       50.0  \n",
              "83   Chemical Abstracts Service, a division of the ...     5000.0  \n",
              "206  GuideStar's mission is to revolutionize philan...      200.0  \n",
              "222  Ideas42 uses behavioral economics to do social...       50.0  "
            ]
          },
          "execution_count": 230,
          "metadata": {},
          "output_type": "execute_result"
        }
      ],
      "source": [
        "# Let's analyze how many conpanies deal with 'nonprofit' 'business_model'\n",
        "print(\"How many conpanies deal with nonprofit business_model\")\n",
        "my_ids = DataSet['business_model'].values.tolist()\n",
        "my_ids.count(\"Nonprofit\")\n",
        "DataSet[DataSet[\"business_model\"] == 'nonprofit']"
      ]
    },
    {
      "cell_type": "code",
      "execution_count": null,
      "id": "cf971c92",
      "metadata": {
        "id": "cf971c92",
        "outputId": "dbb6d1ca-0682-40ed-81bd-9667b5ca8f4e"
      },
      "outputs": [
        {
          "name": "stdout",
          "output_type": "stream",
          "text": [
            "There are only 4 companies whose 'business_model' is 'nonprofit'\n"
          ]
        }
      ],
      "source": [
        "print(\"There are only 4 companies whose 'business_model' is 'nonprofit'\")"
      ]
    },
    {
      "cell_type": "code",
      "execution_count": null,
      "id": "2a3071fb",
      "metadata": {
        "id": "2a3071fb"
      },
      "outputs": [],
      "source": [
        "#How many cities have have a primary 'business_model' of 'Business to Business' ?"
      ]
    },
    {
      "cell_type": "code",
      "execution_count": null,
      "id": "5c0e9fed",
      "metadata": {
        "id": "5c0e9fed",
        "outputId": "035b5cdd-3be4-49a6-cdd0-b9684e3d61d3"
      },
      "outputs": [
        {
          "name": "stdout",
          "output_type": "stream",
          "text": [
            "              business_model           city\n",
            "0       business to business     Washington\n",
            "1       business to business   Philadelphia\n",
            "2       business to business        Fairfax\n",
            "3    not reported by company      Cambridge\n",
            "4       business to consumer      San Ramon\n",
            "..                       ...            ...\n",
            "524  not reported by company        Seattle\n",
            "525  not reported by company       New York\n",
            "526     business to business         Austin\n",
            "527     business to business       New York\n",
            "528  not reported by company     Schaumburg\n",
            "\n",
            "[529 rows x 2 columns]\n"
          ]
        }
      ],
      "source": [
        "DataSet[\"business_model\"]= DataSet[\"business_model\"].str.split(\",\", n = 1, expand = True)\n",
        "x=DataSet[\"business_model\"]\n",
        "dfx=pd.DataFrame(x)\n",
        "citynew=DataSet[\"city\"]\n",
        "dfx=dfx.join(citynew)\n",
        "print(dfx)\n"
      ]
    },
    {
      "cell_type": "code",
      "execution_count": null,
      "id": "8a13aed1",
      "metadata": {
        "id": "8a13aed1",
        "outputId": "6edb86d4-bad9-4341-dcf0-2131186a1a51"
      },
      "outputs": [
        {
          "name": "stdout",
          "output_type": "stream",
          "text": [
            "business_model           city         \n",
            "academia                 Corte Madera     1\n",
            "business to business      Philadelphia    1\n",
            "                         Addison          1\n",
            "                         Amherst          1\n",
            "                         Ann Arbor        2\n",
            "                                         ..\n",
            "not reported by company  Waltham          1\n",
            "                         Washington       3\n",
            "                         Wayne            1\n",
            "                         Yonkers          1\n",
            "                         Yorkville        1\n",
            "Name: city, Length: 259, dtype: int64\n"
          ]
        }
      ],
      "source": [
        "#We grouped along with name of city\n",
        "p=dfx.groupby([\"business_model\",\"city\"])[\"city\"].count()\n",
        "print(p)"
      ]
    },
    {
      "cell_type": "code",
      "execution_count": null,
      "id": "80e1fb0e",
      "metadata": {
        "scrolled": true,
        "id": "80e1fb0e",
        "outputId": "a3bee824-ecb3-48d2-d696-f93ec0519c13"
      },
      "outputs": [
        {
          "name": "stdout",
          "output_type": "stream",
          "text": [
            "business_model\n",
            "academia                     1\n",
            "business to business       305\n",
            "business to consumer       125\n",
            "business to government      19\n",
            "nonprofit                    4\n",
            "not reported by company     75\n",
            "Name: city, dtype: int64\n"
          ]
        },
        {
          "data": {
            "text/plain": [
              "<AxesSubplot:ylabel='business_model'>"
            ]
          },
          "execution_count": 235,
          "metadata": {},
          "output_type": "execute_result"
        },
        {
          "data": {
            "image/png": "[encoded data removed]",
            "text/plain": [
              "<Figure size 432x288 with 1 Axes>"
            ]
          },
          "metadata": {
            "needs_background": "light"
          },
          "output_type": "display_data"
        }
      ],
      "source": [
        "p=dfx.groupby([\"business_model\"])[\"city\"].count()\n",
        "print(p)\n",
        "\n",
        "p.plot(kind='barh')"
      ]
    },
    {
      "cell_type": "code",
      "execution_count": null,
      "id": "a1330c11",
      "metadata": {
        "id": "a1330c11",
        "outputId": "7d25429c-671d-403a-c632-9e473b34e727"
      },
      "outputs": [
        {
          "data": {
            "text/plain": [
              "revenue_source  city         \n",
              "advertising     Baltimore        2007.0\n",
              "                Columbia         2004.0\n",
              "                San Francisco    2005.0\n",
              "                Santa Barbara    2010.0\n",
              "                Sunnyvale        2012.0\n",
              "Name: year_founded, dtype: float64"
            ]
          },
          "execution_count": 236,
          "metadata": {},
          "output_type": "execute_result"
        }
      ],
      "source": [
        "#Let's analyze which 'revenue_source' emerged across the cities around which year?\n",
        "rev=DataSet.groupby([\"revenue_source\",\"city\"])[\"year_founded\"].mean()\n",
        "rev.head(5)"
      ]
    },
    {
      "cell_type": "code",
      "execution_count": null,
      "id": "0e7c594c",
      "metadata": {
        "id": "0e7c594c",
        "outputId": "6b682f8f-3e64-4a1a-9cc7-d6b541bd3e67"
      },
      "outputs": [
        {
          "name": "stdout",
          "output_type": "stream",
          "text": [
            "'adverstising' in Baltimore became a source of revenue roughly around the year 2007\n"
          ]
        }
      ],
      "source": [
        "print(\"'adverstising' in Baltimore became a source of revenue roughly around the year 2007\")"
      ]
    },
    {
      "cell_type": "code",
      "execution_count": null,
      "id": "fc6a400b",
      "metadata": {
        "id": "fc6a400b"
      },
      "outputs": [],
      "source": [
        "#Let's apply machine learning algorithm to predict 'company_category'\n",
        "#We use the concept of 'Multinomial Logistic Regression' to predict the different classes under 'company_category'\n",
        "\n",
        "#'company_category' classification using Random Forest Classifier.\n",
        "# import necessary libraries\n",
        "\n",
        "import nltk\n",
        "\n",
        "#nltk.download('wordnet')\n",
        "#nltk.download('stopwords')\n",
        "\n",
        "\n",
        "from nltk.corpus import stopwords\n",
        "from nltk.stem import WordNetLemmatizer\n",
        "\n",
        "from sklearn.feature_extraction.text import CountVectorizer\n",
        "from sklearn.linear_model import LogisticRegression\n",
        "from sklearn.ensemble import RandomForestClassifier\n",
        "from sklearn.metrics import accuracy_score\n",
        "import sklearn.model_selection\n",
        "import sklearn.preprocessing as preproc\n",
        "from sklearn.feature_extraction import text\n",
        "\n",
        "import re\n",
        "\n",
        "from sklearn.feature_extraction.text import TfidfVectorizer\n",
        "\n",
        "from numpy import array\n",
        "from sklearn.preprocessing import LabelEncoder"
      ]
    },
    {
      "cell_type": "code",
      "execution_count": null,
      "id": "6bd19908",
      "metadata": {
        "id": "6bd19908"
      },
      "outputs": [],
      "source": [
        "#text processing - which is a crucial step in NLP\n",
        "#lemmatization and stemming - grouping together different inflected forms of the word so they can be analyzed as a single item\n",
        "\n",
        "documents = []\n",
        "#combining both 'description' and 'description_short'\n",
        "X = DataSet['description'] + DataSet['description_short']  + DataSet['business_model']\n",
        "# Since the 'revenue_source' has a lot of 'not reported/provided by company' value we have not included in Machine Learning\n",
        "stemmer = WordNetLemmatizer()\n",
        "\n",
        "for sen in range(0, len(X)):\n",
        "    # Remove all the special characters\n",
        "    document = re.sub(r'\\W', ' ', str(X[sen]))\n",
        "\n",
        "    # remove all single characters\n",
        "    document = re.sub(r'\\s+[a-zA-Z]\\s+', ' ', document)\n",
        "\n",
        "    # Remove single characters from the start\n",
        "    document = re.sub(r'\\^[a-zA-Z]\\s+', ' ', document)\n",
        "\n",
        "    # Substituting multiple spaces with single space\n",
        "    document = re.sub(r'\\s+', ' ', document, flags=re.I)\n",
        "\n",
        "    # Removing prefixed 'b'\n",
        "    document = re.sub(r'^b\\s+', '', document)\n",
        "\n",
        "    # Converting to Lowercase\n",
        "    document = document.lower()\n",
        "\n",
        "    # Lemmatization\n",
        "    document = document.split()\n",
        "\n",
        "    document = [stemmer.lemmatize(word) for word in document]\n",
        "    document = ' '.join(document)\n",
        "\n",
        "    documents.append(document)"
      ]
    },
    {
      "cell_type": "code",
      "execution_count": null,
      "id": "6409a83f",
      "metadata": {
        "scrolled": true,
        "id": "6409a83f"
      },
      "outputs": [],
      "source": [
        "#transforms text to feature vectors that can be used as input to estimators.\n",
        "\n",
        "tfidfconverter = TfidfVectorizer(max_features=1500, min_df=5, max_df=0.7, stop_words=stopwords.words('english'))\n",
        "X = tfidfconverter.fit_transform(documents).toarray()"
      ]
    },
    {
      "cell_type": "code",
      "execution_count": null,
      "id": "adcea790",
      "metadata": {
        "id": "adcea790"
      },
      "outputs": [],
      "source": [
        "#here we assign categorical - numeric values to 'company_type', 'state' and 'company_category'\n",
        "#Label Encoding - refers to converting the labels into a numeric form\n",
        "#It is an important pre-processing step in supervised learning.\n",
        "\n",
        "le = LabelEncoder()\n",
        "\n",
        "c_t = array(DataSet['company_type'])\n",
        "c_type = le.fit_transform(c_t)\n",
        "c_type = c_type.tolist()\n",
        "\n",
        "c_s = array(DataSet['state'])\n",
        "c_state = le.fit_transform(c_s)\n",
        "c_state = c_state.tolist()\n",
        "\n",
        "c_c = array(DataSet['company_category'])\n",
        "c_cat = le.fit_transform(c_c)\n",
        "c_cat = c_cat.tolist()\n",
        "\n",
        "c_ci = array(DataSet['city'])\n",
        "c_cit = le.fit_transform(c_ci)\n",
        "c_cit = c_cit.tolist()"
      ]
    },
    {
      "cell_type": "code",
      "execution_count": null,
      "id": "ccbfcc5b",
      "metadata": {
        "id": "ccbfcc5b",
        "outputId": "8c4a9705-f6e5-4715-ff98-ead02c1e504c"
      },
      "outputs": [
        {
          "data": {
            "text/plain": [
              "(529, 1031)"
            ]
          },
          "execution_count": 242,
          "metadata": {},
          "output_type": "execute_result"
        }
      ],
      "source": [
        "#XX is the feauture dataframe\n",
        "#independent columns\n",
        "X = pd.DataFrame(X)\n",
        "\n",
        "XX = pd.DataFrame([DataSet['year_founded'],DataSet['employees']])\n",
        "XX = XX.transpose()\n",
        "XX['state'] = c_state\n",
        "XX['company_type'] = c_type\n",
        "#XX['city'] = c_cit\n",
        "\n",
        "XX = pd.concat([X,XX],axis=1)\n",
        "XX.shape"
      ]
    },
    {
      "cell_type": "code",
      "execution_count": null,
      "id": "8efa07a4",
      "metadata": {
        "id": "8efa07a4",
        "outputId": "c7d4eec0-b5aa-4465-a202-0cacb57bd6b5"
      },
      "outputs": [
        {
          "data": {
            "text/plain": [
              "(529,)"
            ]
          },
          "execution_count": 243,
          "metadata": {},
          "output_type": "execute_result"
        }
      ],
      "source": [
        "#y is for the prediction - 'company_category'\n",
        "#dependent column\n",
        "y = pd.DataFrame(c_cat)\n",
        "y.columns = ['category']\n",
        "# to convert into proper dimensions.\n",
        "y = np.ravel(y)\n",
        "y.shape"
      ]
    },
    {
      "cell_type": "code",
      "execution_count": null,
      "id": "15c86f36",
      "metadata": {
        "id": "15c86f36",
        "outputId": "851cd309-6bdf-4ab4-becb-66a0cc6635c7"
      },
      "outputs": [
        {
          "name": "stdout",
          "output_type": "stream",
          "text": [
            "The accuracy is :  0.6090225563909775\n"
          ]
        }
      ],
      "source": [
        "#splitting of data into train and test indices.\n",
        "#train - dataset is 75%\n",
        "#test - dataset is 25%\n",
        "#random_state is a seed value. used for initializing the internal random number generator which will decide the\n",
        "X_tr, X_te, y_tr, y_te = sklearn.model_selection.train_test_split(XX, y, train_size = 0.75, random_state=55)\n",
        "\n",
        "#machine learning model - multivariate logistic regression - Random Forest Classifier\n",
        "\n",
        "classifier = RandomForestClassifier(n_estimators=1000, random_state=0)\n",
        "classifier.fit(X_tr, y_tr)\n",
        "y_pred = classifier.predict(X_te)\n",
        "print(\"The accuracy is : \",accuracy_score(y_te, y_pred))"
      ]
    },
    {
      "cell_type": "code",
      "execution_count": null,
      "id": "97156f8f",
      "metadata": {
        "id": "97156f8f"
      },
      "outputs": [],
      "source": []
    },
    {
      "cell_type": "code",
      "execution_count": null,
      "id": "0c7538bb",
      "metadata": {
        "id": "0c7538bb"
      },
      "outputs": [],
      "source": []
    },
    {
      "cell_type": "code",
      "execution_count": null,
      "id": "f76f5781",
      "metadata": {
        "id": "f76f5781"
      },
      "outputs": [],
      "source": []
    },
    {
      "cell_type": "code",
      "execution_count": null,
      "id": "81087672",
      "metadata": {
        "id": "81087672"
      },
      "outputs": [],
      "source": []
    }
  ],
  "metadata": {
    "kernelspec": {
      "display_name": "Python 3",
      "language": "python",
      "name": "python3"
    },
    "language_info": {
      "codemirror_mode": {
        "name": "ipython",
        "version": 3
      },
      "file_extension": ".py",
      "mimetype": "text/x-python",
      "name": "python",
      "nbconvert_exporter": "python",
      "pygments_lexer": "ipython3",
      "version": "3.8.8"
    },
    "colab": {
      "provenance": []
    }
  },
  "nbformat": 4,
  "nbformat_minor": 5
}